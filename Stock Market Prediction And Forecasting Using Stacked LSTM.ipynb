{
 "cells": [
  {
   "cell_type": "markdown",
   "id": "263aac8f",
   "metadata": {},
   "source": [
    "# Stock Market Prediction And Forecasting Using Stacked LSTM"
   ]
  },
  {
   "cell_type": "code",
   "execution_count": 48,
   "id": "51578db7",
   "metadata": {},
   "outputs": [],
   "source": [
    "import pandas as pd\n",
    "import matplotlib.pyplot as plt\n",
    "import numpy as np"
   ]
  },
  {
   "cell_type": "code",
   "execution_count": 49,
   "id": "44bf29c1",
   "metadata": {},
   "outputs": [
    {
     "data": {
      "text/html": [
       "<div>\n",
       "<style scoped>\n",
       "    .dataframe tbody tr th:only-of-type {\n",
       "        vertical-align: middle;\n",
       "    }\n",
       "\n",
       "    .dataframe tbody tr th {\n",
       "        vertical-align: top;\n",
       "    }\n",
       "\n",
       "    .dataframe thead th {\n",
       "        text-align: right;\n",
       "    }\n",
       "</style>\n",
       "<table border=\"1\" class=\"dataframe\">\n",
       "  <thead>\n",
       "    <tr style=\"text-align: right;\">\n",
       "      <th></th>\n",
       "      <th>Date</th>\n",
       "      <th>Open</th>\n",
       "      <th>High</th>\n",
       "      <th>Low</th>\n",
       "      <th>Last</th>\n",
       "      <th>Close</th>\n",
       "      <th>Total Trade Quantity</th>\n",
       "      <th>Turnover (Lacs)</th>\n",
       "    </tr>\n",
       "  </thead>\n",
       "  <tbody>\n",
       "    <tr>\n",
       "      <th>0</th>\n",
       "      <td>2018-09-28</td>\n",
       "      <td>234.05</td>\n",
       "      <td>235.95</td>\n",
       "      <td>230.20</td>\n",
       "      <td>233.50</td>\n",
       "      <td>233.75</td>\n",
       "      <td>3069914</td>\n",
       "      <td>7162.35</td>\n",
       "    </tr>\n",
       "    <tr>\n",
       "      <th>1</th>\n",
       "      <td>2018-09-27</td>\n",
       "      <td>234.55</td>\n",
       "      <td>236.80</td>\n",
       "      <td>231.10</td>\n",
       "      <td>233.80</td>\n",
       "      <td>233.25</td>\n",
       "      <td>5082859</td>\n",
       "      <td>11859.95</td>\n",
       "    </tr>\n",
       "    <tr>\n",
       "      <th>2</th>\n",
       "      <td>2018-09-26</td>\n",
       "      <td>240.00</td>\n",
       "      <td>240.00</td>\n",
       "      <td>232.50</td>\n",
       "      <td>235.00</td>\n",
       "      <td>234.25</td>\n",
       "      <td>2240909</td>\n",
       "      <td>5248.60</td>\n",
       "    </tr>\n",
       "    <tr>\n",
       "      <th>3</th>\n",
       "      <td>2018-09-25</td>\n",
       "      <td>233.30</td>\n",
       "      <td>236.75</td>\n",
       "      <td>232.00</td>\n",
       "      <td>236.25</td>\n",
       "      <td>236.10</td>\n",
       "      <td>2349368</td>\n",
       "      <td>5503.90</td>\n",
       "    </tr>\n",
       "    <tr>\n",
       "      <th>4</th>\n",
       "      <td>2018-09-24</td>\n",
       "      <td>233.55</td>\n",
       "      <td>239.20</td>\n",
       "      <td>230.75</td>\n",
       "      <td>234.00</td>\n",
       "      <td>233.30</td>\n",
       "      <td>3423509</td>\n",
       "      <td>7999.55</td>\n",
       "    </tr>\n",
       "    <tr>\n",
       "      <th>...</th>\n",
       "      <td>...</td>\n",
       "      <td>...</td>\n",
       "      <td>...</td>\n",
       "      <td>...</td>\n",
       "      <td>...</td>\n",
       "      <td>...</td>\n",
       "      <td>...</td>\n",
       "      <td>...</td>\n",
       "    </tr>\n",
       "    <tr>\n",
       "      <th>2030</th>\n",
       "      <td>2010-07-27</td>\n",
       "      <td>117.60</td>\n",
       "      <td>119.50</td>\n",
       "      <td>112.00</td>\n",
       "      <td>118.80</td>\n",
       "      <td>118.65</td>\n",
       "      <td>586100</td>\n",
       "      <td>694.98</td>\n",
       "    </tr>\n",
       "    <tr>\n",
       "      <th>2031</th>\n",
       "      <td>2010-07-26</td>\n",
       "      <td>120.10</td>\n",
       "      <td>121.00</td>\n",
       "      <td>117.10</td>\n",
       "      <td>117.10</td>\n",
       "      <td>117.60</td>\n",
       "      <td>658440</td>\n",
       "      <td>780.01</td>\n",
       "    </tr>\n",
       "    <tr>\n",
       "      <th>2032</th>\n",
       "      <td>2010-07-23</td>\n",
       "      <td>121.80</td>\n",
       "      <td>121.95</td>\n",
       "      <td>120.25</td>\n",
       "      <td>120.35</td>\n",
       "      <td>120.65</td>\n",
       "      <td>281312</td>\n",
       "      <td>340.31</td>\n",
       "    </tr>\n",
       "    <tr>\n",
       "      <th>2033</th>\n",
       "      <td>2010-07-22</td>\n",
       "      <td>120.30</td>\n",
       "      <td>122.00</td>\n",
       "      <td>120.25</td>\n",
       "      <td>120.75</td>\n",
       "      <td>120.90</td>\n",
       "      <td>293312</td>\n",
       "      <td>355.17</td>\n",
       "    </tr>\n",
       "    <tr>\n",
       "      <th>2034</th>\n",
       "      <td>2010-07-21</td>\n",
       "      <td>122.10</td>\n",
       "      <td>123.00</td>\n",
       "      <td>121.05</td>\n",
       "      <td>121.10</td>\n",
       "      <td>121.55</td>\n",
       "      <td>658666</td>\n",
       "      <td>803.56</td>\n",
       "    </tr>\n",
       "  </tbody>\n",
       "</table>\n",
       "<p>2035 rows × 8 columns</p>\n",
       "</div>"
      ],
      "text/plain": [
       "            Date    Open    High     Low    Last   Close  \\\n",
       "0     2018-09-28  234.05  235.95  230.20  233.50  233.75   \n",
       "1     2018-09-27  234.55  236.80  231.10  233.80  233.25   \n",
       "2     2018-09-26  240.00  240.00  232.50  235.00  234.25   \n",
       "3     2018-09-25  233.30  236.75  232.00  236.25  236.10   \n",
       "4     2018-09-24  233.55  239.20  230.75  234.00  233.30   \n",
       "...          ...     ...     ...     ...     ...     ...   \n",
       "2030  2010-07-27  117.60  119.50  112.00  118.80  118.65   \n",
       "2031  2010-07-26  120.10  121.00  117.10  117.10  117.60   \n",
       "2032  2010-07-23  121.80  121.95  120.25  120.35  120.65   \n",
       "2033  2010-07-22  120.30  122.00  120.25  120.75  120.90   \n",
       "2034  2010-07-21  122.10  123.00  121.05  121.10  121.55   \n",
       "\n",
       "      Total Trade Quantity  Turnover (Lacs)  \n",
       "0                  3069914          7162.35  \n",
       "1                  5082859         11859.95  \n",
       "2                  2240909          5248.60  \n",
       "3                  2349368          5503.90  \n",
       "4                  3423509          7999.55  \n",
       "...                    ...              ...  \n",
       "2030                586100           694.98  \n",
       "2031                658440           780.01  \n",
       "2032                281312           340.31  \n",
       "2033                293312           355.17  \n",
       "2034                658666           803.56  \n",
       "\n",
       "[2035 rows x 8 columns]"
      ]
     },
     "execution_count": 49,
     "metadata": {},
     "output_type": "execute_result"
    }
   ],
   "source": [
    "# Loading dataset\n",
    "\n",
    "url = \"https://raw.githubusercontent.com/mwitiderrick/stockprice/master/NSE-TATAGLOBAL.csv\"\n",
    "tataglobal_df = pd.read_csv(url)\n",
    "tataglobal_df"
   ]
  },
  {
   "cell_type": "code",
   "execution_count": 50,
   "id": "8fed19ed",
   "metadata": {},
   "outputs": [
    {
     "data": {
      "text/plain": [
       "(2035, 8)"
      ]
     },
     "execution_count": 50,
     "metadata": {},
     "output_type": "execute_result"
    }
   ],
   "source": [
    "tataglobal_df.shape"
   ]
  },
  {
   "cell_type": "code",
   "execution_count": 51,
   "id": "69e31c30",
   "metadata": {},
   "outputs": [
    {
     "data": {
      "text/plain": [
       "Date                     object\n",
       "Open                    float64\n",
       "High                    float64\n",
       "Low                     float64\n",
       "Last                    float64\n",
       "Close                   float64\n",
       "Total Trade Quantity      int64\n",
       "Turnover (Lacs)         float64\n",
       "dtype: object"
      ]
     },
     "execution_count": 51,
     "metadata": {},
     "output_type": "execute_result"
    }
   ],
   "source": [
    "tataglobal_df.dtypes"
   ]
  },
  {
   "cell_type": "code",
   "execution_count": 52,
   "id": "95828790",
   "metadata": {},
   "outputs": [
    {
     "name": "stdout",
     "output_type": "stream",
     "text": [
      "<class 'pandas.core.frame.DataFrame'>\n",
      "RangeIndex: 2035 entries, 0 to 2034\n",
      "Data columns (total 8 columns):\n",
      " #   Column                Non-Null Count  Dtype  \n",
      "---  ------                --------------  -----  \n",
      " 0   Date                  2035 non-null   object \n",
      " 1   Open                  2035 non-null   float64\n",
      " 2   High                  2035 non-null   float64\n",
      " 3   Low                   2035 non-null   float64\n",
      " 4   Last                  2035 non-null   float64\n",
      " 5   Close                 2035 non-null   float64\n",
      " 6   Total Trade Quantity  2035 non-null   int64  \n",
      " 7   Turnover (Lacs)       2035 non-null   float64\n",
      "dtypes: float64(6), int64(1), object(1)\n",
      "memory usage: 127.3+ KB\n"
     ]
    }
   ],
   "source": [
    "tataglobal_df.info()"
   ]
  },
  {
   "cell_type": "code",
   "execution_count": 53,
   "id": "f036b212",
   "metadata": {},
   "outputs": [
    {
     "data": {
      "text/html": [
       "<div>\n",
       "<style scoped>\n",
       "    .dataframe tbody tr th:only-of-type {\n",
       "        vertical-align: middle;\n",
       "    }\n",
       "\n",
       "    .dataframe tbody tr th {\n",
       "        vertical-align: top;\n",
       "    }\n",
       "\n",
       "    .dataframe thead th {\n",
       "        text-align: right;\n",
       "    }\n",
       "</style>\n",
       "<table border=\"1\" class=\"dataframe\">\n",
       "  <thead>\n",
       "    <tr style=\"text-align: right;\">\n",
       "      <th></th>\n",
       "      <th>Open</th>\n",
       "      <th>High</th>\n",
       "      <th>Low</th>\n",
       "      <th>Last</th>\n",
       "      <th>Close</th>\n",
       "      <th>Total Trade Quantity</th>\n",
       "      <th>Turnover (Lacs)</th>\n",
       "    </tr>\n",
       "  </thead>\n",
       "  <tbody>\n",
       "    <tr>\n",
       "      <th>count</th>\n",
       "      <td>2035.000000</td>\n",
       "      <td>2035.000000</td>\n",
       "      <td>2035.000000</td>\n",
       "      <td>2035.000000</td>\n",
       "      <td>2035.00000</td>\n",
       "      <td>2.035000e+03</td>\n",
       "      <td>2035.000000</td>\n",
       "    </tr>\n",
       "    <tr>\n",
       "      <th>mean</th>\n",
       "      <td>149.713735</td>\n",
       "      <td>151.992826</td>\n",
       "      <td>147.293931</td>\n",
       "      <td>149.474251</td>\n",
       "      <td>149.45027</td>\n",
       "      <td>2.335681e+06</td>\n",
       "      <td>3899.980565</td>\n",
       "    </tr>\n",
       "    <tr>\n",
       "      <th>std</th>\n",
       "      <td>48.664509</td>\n",
       "      <td>49.413109</td>\n",
       "      <td>47.931958</td>\n",
       "      <td>48.732570</td>\n",
       "      <td>48.71204</td>\n",
       "      <td>2.091778e+06</td>\n",
       "      <td>4570.767877</td>\n",
       "    </tr>\n",
       "    <tr>\n",
       "      <th>min</th>\n",
       "      <td>81.100000</td>\n",
       "      <td>82.800000</td>\n",
       "      <td>80.000000</td>\n",
       "      <td>81.000000</td>\n",
       "      <td>80.95000</td>\n",
       "      <td>3.961000e+04</td>\n",
       "      <td>37.040000</td>\n",
       "    </tr>\n",
       "    <tr>\n",
       "      <th>25%</th>\n",
       "      <td>120.025000</td>\n",
       "      <td>122.100000</td>\n",
       "      <td>118.300000</td>\n",
       "      <td>120.075000</td>\n",
       "      <td>120.05000</td>\n",
       "      <td>1.146444e+06</td>\n",
       "      <td>1427.460000</td>\n",
       "    </tr>\n",
       "    <tr>\n",
       "      <th>50%</th>\n",
       "      <td>141.500000</td>\n",
       "      <td>143.400000</td>\n",
       "      <td>139.600000</td>\n",
       "      <td>141.100000</td>\n",
       "      <td>141.25000</td>\n",
       "      <td>1.783456e+06</td>\n",
       "      <td>2512.030000</td>\n",
       "    </tr>\n",
       "    <tr>\n",
       "      <th>75%</th>\n",
       "      <td>157.175000</td>\n",
       "      <td>159.400000</td>\n",
       "      <td>155.150000</td>\n",
       "      <td>156.925000</td>\n",
       "      <td>156.90000</td>\n",
       "      <td>2.813594e+06</td>\n",
       "      <td>4539.015000</td>\n",
       "    </tr>\n",
       "    <tr>\n",
       "      <th>max</th>\n",
       "      <td>327.700000</td>\n",
       "      <td>328.750000</td>\n",
       "      <td>321.650000</td>\n",
       "      <td>325.950000</td>\n",
       "      <td>325.75000</td>\n",
       "      <td>2.919102e+07</td>\n",
       "      <td>55755.080000</td>\n",
       "    </tr>\n",
       "  </tbody>\n",
       "</table>\n",
       "</div>"
      ],
      "text/plain": [
       "              Open         High          Low         Last       Close  \\\n",
       "count  2035.000000  2035.000000  2035.000000  2035.000000  2035.00000   \n",
       "mean    149.713735   151.992826   147.293931   149.474251   149.45027   \n",
       "std      48.664509    49.413109    47.931958    48.732570    48.71204   \n",
       "min      81.100000    82.800000    80.000000    81.000000    80.95000   \n",
       "25%     120.025000   122.100000   118.300000   120.075000   120.05000   \n",
       "50%     141.500000   143.400000   139.600000   141.100000   141.25000   \n",
       "75%     157.175000   159.400000   155.150000   156.925000   156.90000   \n",
       "max     327.700000   328.750000   321.650000   325.950000   325.75000   \n",
       "\n",
       "       Total Trade Quantity  Turnover (Lacs)  \n",
       "count          2.035000e+03      2035.000000  \n",
       "mean           2.335681e+06      3899.980565  \n",
       "std            2.091778e+06      4570.767877  \n",
       "min            3.961000e+04        37.040000  \n",
       "25%            1.146444e+06      1427.460000  \n",
       "50%            1.783456e+06      2512.030000  \n",
       "75%            2.813594e+06      4539.015000  \n",
       "max            2.919102e+07     55755.080000  "
      ]
     },
     "execution_count": 53,
     "metadata": {},
     "output_type": "execute_result"
    }
   ],
   "source": [
    "tataglobal_df.describe()"
   ]
  },
  {
   "cell_type": "code",
   "execution_count": 54,
   "id": "79ba8123",
   "metadata": {},
   "outputs": [
    {
     "data": {
      "text/plain": [
       "Date                    0\n",
       "Open                    0\n",
       "High                    0\n",
       "Low                     0\n",
       "Last                    0\n",
       "Close                   0\n",
       "Total Trade Quantity    0\n",
       "Turnover (Lacs)         0\n",
       "dtype: int64"
      ]
     },
     "execution_count": 54,
     "metadata": {},
     "output_type": "execute_result"
    }
   ],
   "source": [
    "tataglobal_df.isna().sum()"
   ]
  },
  {
   "cell_type": "code",
   "execution_count": 55,
   "id": "d7455f75",
   "metadata": {},
   "outputs": [
    {
     "data": {
      "text/html": [
       "<div>\n",
       "<style scoped>\n",
       "    .dataframe tbody tr th:only-of-type {\n",
       "        vertical-align: middle;\n",
       "    }\n",
       "\n",
       "    .dataframe tbody tr th {\n",
       "        vertical-align: top;\n",
       "    }\n",
       "\n",
       "    .dataframe thead th {\n",
       "        text-align: right;\n",
       "    }\n",
       "</style>\n",
       "<table border=\"1\" class=\"dataframe\">\n",
       "  <thead>\n",
       "    <tr style=\"text-align: right;\">\n",
       "      <th></th>\n",
       "      <th>Date</th>\n",
       "      <th>Open</th>\n",
       "      <th>High</th>\n",
       "      <th>Low</th>\n",
       "      <th>Last</th>\n",
       "      <th>Close</th>\n",
       "      <th>Total Trade Quantity</th>\n",
       "      <th>Turnover (Lacs)</th>\n",
       "    </tr>\n",
       "  </thead>\n",
       "  <tbody>\n",
       "    <tr>\n",
       "      <th>0</th>\n",
       "      <td>2018-09-28</td>\n",
       "      <td>234.05</td>\n",
       "      <td>235.95</td>\n",
       "      <td>230.20</td>\n",
       "      <td>233.50</td>\n",
       "      <td>233.75</td>\n",
       "      <td>3069914</td>\n",
       "      <td>7162.35</td>\n",
       "    </tr>\n",
       "    <tr>\n",
       "      <th>1</th>\n",
       "      <td>2018-09-27</td>\n",
       "      <td>234.55</td>\n",
       "      <td>236.80</td>\n",
       "      <td>231.10</td>\n",
       "      <td>233.80</td>\n",
       "      <td>233.25</td>\n",
       "      <td>5082859</td>\n",
       "      <td>11859.95</td>\n",
       "    </tr>\n",
       "    <tr>\n",
       "      <th>2</th>\n",
       "      <td>2018-09-26</td>\n",
       "      <td>240.00</td>\n",
       "      <td>240.00</td>\n",
       "      <td>232.50</td>\n",
       "      <td>235.00</td>\n",
       "      <td>234.25</td>\n",
       "      <td>2240909</td>\n",
       "      <td>5248.60</td>\n",
       "    </tr>\n",
       "    <tr>\n",
       "      <th>3</th>\n",
       "      <td>2018-09-25</td>\n",
       "      <td>233.30</td>\n",
       "      <td>236.75</td>\n",
       "      <td>232.00</td>\n",
       "      <td>236.25</td>\n",
       "      <td>236.10</td>\n",
       "      <td>2349368</td>\n",
       "      <td>5503.90</td>\n",
       "    </tr>\n",
       "    <tr>\n",
       "      <th>4</th>\n",
       "      <td>2018-09-24</td>\n",
       "      <td>233.55</td>\n",
       "      <td>239.20</td>\n",
       "      <td>230.75</td>\n",
       "      <td>234.00</td>\n",
       "      <td>233.30</td>\n",
       "      <td>3423509</td>\n",
       "      <td>7999.55</td>\n",
       "    </tr>\n",
       "  </tbody>\n",
       "</table>\n",
       "</div>"
      ],
      "text/plain": [
       "         Date    Open    High     Low    Last   Close  Total Trade Quantity  \\\n",
       "0  2018-09-28  234.05  235.95  230.20  233.50  233.75               3069914   \n",
       "1  2018-09-27  234.55  236.80  231.10  233.80  233.25               5082859   \n",
       "2  2018-09-26  240.00  240.00  232.50  235.00  234.25               2240909   \n",
       "3  2018-09-25  233.30  236.75  232.00  236.25  236.10               2349368   \n",
       "4  2018-09-24  233.55  239.20  230.75  234.00  233.30               3423509   \n",
       "\n",
       "   Turnover (Lacs)  \n",
       "0          7162.35  \n",
       "1         11859.95  \n",
       "2          5248.60  \n",
       "3          5503.90  \n",
       "4          7999.55  "
      ]
     },
     "execution_count": 55,
     "metadata": {},
     "output_type": "execute_result"
    }
   ],
   "source": [
    "tataglobal_df.head()"
   ]
  },
  {
   "cell_type": "code",
   "execution_count": 56,
   "id": "ffcbf805",
   "metadata": {},
   "outputs": [
    {
     "data": {
      "image/png": "[encoded data removed]",
      "text/plain": [
       "<Figure size 640x480 with 1 Axes>"
      ]
     },
     "metadata": {},
     "output_type": "display_data"
    }
   ],
   "source": [
    "tataglobal_df.Close.hist();"
   ]
  },
  {
   "cell_type": "code",
   "execution_count": 57,
   "id": "6d5a6d9f",
   "metadata": {},
   "outputs": [
    {
     "data": {
      "text/html": [
       "<div>\n",
       "<style scoped>\n",
       "    .dataframe tbody tr th:only-of-type {\n",
       "        vertical-align: middle;\n",
       "    }\n",
       "\n",
       "    .dataframe tbody tr th {\n",
       "        vertical-align: top;\n",
       "    }\n",
       "\n",
       "    .dataframe thead th {\n",
       "        text-align: right;\n",
       "    }\n",
       "</style>\n",
       "<table border=\"1\" class=\"dataframe\">\n",
       "  <thead>\n",
       "    <tr style=\"text-align: right;\">\n",
       "      <th></th>\n",
       "      <th>Date</th>\n",
       "      <th>Open</th>\n",
       "      <th>High</th>\n",
       "      <th>Low</th>\n",
       "      <th>Last</th>\n",
       "      <th>Close</th>\n",
       "      <th>Total Trade Quantity</th>\n",
       "      <th>Turnover (Lacs)</th>\n",
       "    </tr>\n",
       "  </thead>\n",
       "  <tbody>\n",
       "    <tr>\n",
       "      <th>0</th>\n",
       "      <td>2018-09-28</td>\n",
       "      <td>234.05</td>\n",
       "      <td>235.95</td>\n",
       "      <td>230.20</td>\n",
       "      <td>233.50</td>\n",
       "      <td>233.75</td>\n",
       "      <td>3069914</td>\n",
       "      <td>7162.35</td>\n",
       "    </tr>\n",
       "    <tr>\n",
       "      <th>1</th>\n",
       "      <td>2018-09-27</td>\n",
       "      <td>234.55</td>\n",
       "      <td>236.80</td>\n",
       "      <td>231.10</td>\n",
       "      <td>233.80</td>\n",
       "      <td>233.25</td>\n",
       "      <td>5082859</td>\n",
       "      <td>11859.95</td>\n",
       "    </tr>\n",
       "    <tr>\n",
       "      <th>2</th>\n",
       "      <td>2018-09-26</td>\n",
       "      <td>240.00</td>\n",
       "      <td>240.00</td>\n",
       "      <td>232.50</td>\n",
       "      <td>235.00</td>\n",
       "      <td>234.25</td>\n",
       "      <td>2240909</td>\n",
       "      <td>5248.60</td>\n",
       "    </tr>\n",
       "    <tr>\n",
       "      <th>3</th>\n",
       "      <td>2018-09-25</td>\n",
       "      <td>233.30</td>\n",
       "      <td>236.75</td>\n",
       "      <td>232.00</td>\n",
       "      <td>236.25</td>\n",
       "      <td>236.10</td>\n",
       "      <td>2349368</td>\n",
       "      <td>5503.90</td>\n",
       "    </tr>\n",
       "    <tr>\n",
       "      <th>4</th>\n",
       "      <td>2018-09-24</td>\n",
       "      <td>233.55</td>\n",
       "      <td>239.20</td>\n",
       "      <td>230.75</td>\n",
       "      <td>234.00</td>\n",
       "      <td>233.30</td>\n",
       "      <td>3423509</td>\n",
       "      <td>7999.55</td>\n",
       "    </tr>\n",
       "  </tbody>\n",
       "</table>\n",
       "</div>"
      ],
      "text/plain": [
       "        Date    Open    High     Low    Last   Close  Total Trade Quantity  \\\n",
       "0 2018-09-28  234.05  235.95  230.20  233.50  233.75               3069914   \n",
       "1 2018-09-27  234.55  236.80  231.10  233.80  233.25               5082859   \n",
       "2 2018-09-26  240.00  240.00  232.50  235.00  234.25               2240909   \n",
       "3 2018-09-25  233.30  236.75  232.00  236.25  236.10               2349368   \n",
       "4 2018-09-24  233.55  239.20  230.75  234.00  233.30               3423509   \n",
       "\n",
       "   Turnover (Lacs)  \n",
       "0          7162.35  \n",
       "1         11859.95  \n",
       "2          5248.60  \n",
       "3          5503.90  \n",
       "4          7999.55  "
      ]
     },
     "execution_count": 57,
     "metadata": {},
     "output_type": "execute_result"
    }
   ],
   "source": [
    "# Imoporting data again but this time parse dates\n",
    "\n",
    "df = pd.read_csv(url, \n",
    "                 parse_dates=[\"Date\"])\n",
    "df.head()"
   ]
  },
  {
   "cell_type": "code",
   "execution_count": 58,
   "id": "b44abf5f",
   "metadata": {},
   "outputs": [
    {
     "data": {
      "text/plain": [
       "dtype('<M8[ns]')"
      ]
     },
     "execution_count": 58,
     "metadata": {},
     "output_type": "execute_result"
    }
   ],
   "source": [
    "df.Date.dtype"
   ]
  },
  {
   "cell_type": "code",
   "execution_count": 59,
   "id": "8eb7724b",
   "metadata": {},
   "outputs": [
    {
     "data": {
      "text/plain": [
       "dtype('O')"
      ]
     },
     "execution_count": 59,
     "metadata": {},
     "output_type": "execute_result"
    }
   ],
   "source": [
    "tataglobal_df.Date.dtype\n"
   ]
  },
  {
   "cell_type": "code",
   "execution_count": 60,
   "id": "1ffc9e69",
   "metadata": {},
   "outputs": [
    {
     "data": {
      "text/plain": [
       "0    2018-09-28\n",
       "1    2018-09-27\n",
       "2    2018-09-26\n",
       "3    2018-09-25\n",
       "4    2018-09-24\n",
       "Name: Date, dtype: object"
      ]
     },
     "execution_count": 60,
     "metadata": {},
     "output_type": "execute_result"
    }
   ],
   "source": [
    "tataglobal_df.Date.head()"
   ]
  },
  {
   "cell_type": "code",
   "execution_count": 61,
   "id": "d1d36650",
   "metadata": {},
   "outputs": [
    {
     "data": {
      "text/plain": [
       "0   2018-09-28\n",
       "1   2018-09-27\n",
       "2   2018-09-26\n",
       "3   2018-09-25\n",
       "4   2018-09-24\n",
       "Name: Date, dtype: datetime64[ns]"
      ]
     },
     "execution_count": 61,
     "metadata": {},
     "output_type": "execute_result"
    }
   ],
   "source": [
    "df.Date.head()"
   ]
  },
  {
   "cell_type": "code",
   "execution_count": 62,
   "id": "1676c28e",
   "metadata": {},
   "outputs": [
    {
     "data": {
      "text/plain": [
       "Date                    0\n",
       "Open                    0\n",
       "High                    0\n",
       "Low                     0\n",
       "Last                    0\n",
       "Close                   0\n",
       "Total Trade Quantity    0\n",
       "Turnover (Lacs)         0\n",
       "dtype: int64"
      ]
     },
     "execution_count": 62,
     "metadata": {},
     "output_type": "execute_result"
    }
   ],
   "source": [
    "df.isna().sum()"
   ]
  },
  {
   "cell_type": "code",
   "execution_count": 63,
   "id": "62f82ee9",
   "metadata": {},
   "outputs": [
    {
     "data": {
      "text/html": [
       "<div>\n",
       "<style scoped>\n",
       "    .dataframe tbody tr th:only-of-type {\n",
       "        vertical-align: middle;\n",
       "    }\n",
       "\n",
       "    .dataframe tbody tr th {\n",
       "        vertical-align: top;\n",
       "    }\n",
       "\n",
       "    .dataframe thead th {\n",
       "        text-align: right;\n",
       "    }\n",
       "</style>\n",
       "<table border=\"1\" class=\"dataframe\">\n",
       "  <thead>\n",
       "    <tr style=\"text-align: right;\">\n",
       "      <th></th>\n",
       "      <th>Date</th>\n",
       "      <th>Open</th>\n",
       "      <th>High</th>\n",
       "      <th>Low</th>\n",
       "      <th>Last</th>\n",
       "      <th>Close</th>\n",
       "      <th>Total Trade Quantity</th>\n",
       "      <th>Turnover (Lacs)</th>\n",
       "    </tr>\n",
       "  </thead>\n",
       "  <tbody>\n",
       "    <tr>\n",
       "      <th>0</th>\n",
       "      <td>2018-09-28</td>\n",
       "      <td>234.05</td>\n",
       "      <td>235.95</td>\n",
       "      <td>230.20</td>\n",
       "      <td>233.50</td>\n",
       "      <td>233.75</td>\n",
       "      <td>3069914</td>\n",
       "      <td>7162.35</td>\n",
       "    </tr>\n",
       "    <tr>\n",
       "      <th>1</th>\n",
       "      <td>2018-09-27</td>\n",
       "      <td>234.55</td>\n",
       "      <td>236.80</td>\n",
       "      <td>231.10</td>\n",
       "      <td>233.80</td>\n",
       "      <td>233.25</td>\n",
       "      <td>5082859</td>\n",
       "      <td>11859.95</td>\n",
       "    </tr>\n",
       "    <tr>\n",
       "      <th>2</th>\n",
       "      <td>2018-09-26</td>\n",
       "      <td>240.00</td>\n",
       "      <td>240.00</td>\n",
       "      <td>232.50</td>\n",
       "      <td>235.00</td>\n",
       "      <td>234.25</td>\n",
       "      <td>2240909</td>\n",
       "      <td>5248.60</td>\n",
       "    </tr>\n",
       "    <tr>\n",
       "      <th>3</th>\n",
       "      <td>2018-09-25</td>\n",
       "      <td>233.30</td>\n",
       "      <td>236.75</td>\n",
       "      <td>232.00</td>\n",
       "      <td>236.25</td>\n",
       "      <td>236.10</td>\n",
       "      <td>2349368</td>\n",
       "      <td>5503.90</td>\n",
       "    </tr>\n",
       "    <tr>\n",
       "      <th>4</th>\n",
       "      <td>2018-09-24</td>\n",
       "      <td>233.55</td>\n",
       "      <td>239.20</td>\n",
       "      <td>230.75</td>\n",
       "      <td>234.00</td>\n",
       "      <td>233.30</td>\n",
       "      <td>3423509</td>\n",
       "      <td>7999.55</td>\n",
       "    </tr>\n",
       "  </tbody>\n",
       "</table>\n",
       "</div>"
      ],
      "text/plain": [
       "        Date    Open    High     Low    Last   Close  Total Trade Quantity  \\\n",
       "0 2018-09-28  234.05  235.95  230.20  233.50  233.75               3069914   \n",
       "1 2018-09-27  234.55  236.80  231.10  233.80  233.25               5082859   \n",
       "2 2018-09-26  240.00  240.00  232.50  235.00  234.25               2240909   \n",
       "3 2018-09-25  233.30  236.75  232.00  236.25  236.10               2349368   \n",
       "4 2018-09-24  233.55  239.20  230.75  234.00  233.30               3423509   \n",
       "\n",
       "   Turnover (Lacs)  \n",
       "0          7162.35  \n",
       "1         11859.95  \n",
       "2          5248.60  \n",
       "3          5503.90  \n",
       "4          7999.55  "
      ]
     },
     "execution_count": 63,
     "metadata": {},
     "output_type": "execute_result"
    }
   ],
   "source": [
    "df.head()"
   ]
  },
  {
   "cell_type": "code",
   "execution_count": 64,
   "id": "71dc6fe4",
   "metadata": {},
   "outputs": [
    {
     "data": {
      "text/html": [
       "<div>\n",
       "<style scoped>\n",
       "    .dataframe tbody tr th:only-of-type {\n",
       "        vertical-align: middle;\n",
       "    }\n",
       "\n",
       "    .dataframe tbody tr th {\n",
       "        vertical-align: top;\n",
       "    }\n",
       "\n",
       "    .dataframe thead th {\n",
       "        text-align: right;\n",
       "    }\n",
       "</style>\n",
       "<table border=\"1\" class=\"dataframe\">\n",
       "  <thead>\n",
       "    <tr style=\"text-align: right;\">\n",
       "      <th></th>\n",
       "      <th>Date</th>\n",
       "      <th>Open</th>\n",
       "      <th>High</th>\n",
       "      <th>Low</th>\n",
       "      <th>Last</th>\n",
       "      <th>Close</th>\n",
       "      <th>Total Trade Quantity</th>\n",
       "      <th>Turnover (Lacs)</th>\n",
       "    </tr>\n",
       "  </thead>\n",
       "  <tbody>\n",
       "    <tr>\n",
       "      <th>2030</th>\n",
       "      <td>2010-07-27</td>\n",
       "      <td>117.6</td>\n",
       "      <td>119.50</td>\n",
       "      <td>112.00</td>\n",
       "      <td>118.80</td>\n",
       "      <td>118.65</td>\n",
       "      <td>586100</td>\n",
       "      <td>694.98</td>\n",
       "    </tr>\n",
       "    <tr>\n",
       "      <th>2031</th>\n",
       "      <td>2010-07-26</td>\n",
       "      <td>120.1</td>\n",
       "      <td>121.00</td>\n",
       "      <td>117.10</td>\n",
       "      <td>117.10</td>\n",
       "      <td>117.60</td>\n",
       "      <td>658440</td>\n",
       "      <td>780.01</td>\n",
       "    </tr>\n",
       "    <tr>\n",
       "      <th>2032</th>\n",
       "      <td>2010-07-23</td>\n",
       "      <td>121.8</td>\n",
       "      <td>121.95</td>\n",
       "      <td>120.25</td>\n",
       "      <td>120.35</td>\n",
       "      <td>120.65</td>\n",
       "      <td>281312</td>\n",
       "      <td>340.31</td>\n",
       "    </tr>\n",
       "    <tr>\n",
       "      <th>2033</th>\n",
       "      <td>2010-07-22</td>\n",
       "      <td>120.3</td>\n",
       "      <td>122.00</td>\n",
       "      <td>120.25</td>\n",
       "      <td>120.75</td>\n",
       "      <td>120.90</td>\n",
       "      <td>293312</td>\n",
       "      <td>355.17</td>\n",
       "    </tr>\n",
       "    <tr>\n",
       "      <th>2034</th>\n",
       "      <td>2010-07-21</td>\n",
       "      <td>122.1</td>\n",
       "      <td>123.00</td>\n",
       "      <td>121.05</td>\n",
       "      <td>121.10</td>\n",
       "      <td>121.55</td>\n",
       "      <td>658666</td>\n",
       "      <td>803.56</td>\n",
       "    </tr>\n",
       "  </tbody>\n",
       "</table>\n",
       "</div>"
      ],
      "text/plain": [
       "           Date   Open    High     Low    Last   Close  Total Trade Quantity  \\\n",
       "2030 2010-07-27  117.6  119.50  112.00  118.80  118.65                586100   \n",
       "2031 2010-07-26  120.1  121.00  117.10  117.10  117.60                658440   \n",
       "2032 2010-07-23  121.8  121.95  120.25  120.35  120.65                281312   \n",
       "2033 2010-07-22  120.3  122.00  120.25  120.75  120.90                293312   \n",
       "2034 2010-07-21  122.1  123.00  121.05  121.10  121.55                658666   \n",
       "\n",
       "      Turnover (Lacs)  \n",
       "2030           694.98  \n",
       "2031           780.01  \n",
       "2032           340.31  \n",
       "2033           355.17  \n",
       "2034           803.56  "
      ]
     },
     "execution_count": 64,
     "metadata": {},
     "output_type": "execute_result"
    }
   ],
   "source": [
    "df.tail()"
   ]
  },
  {
   "cell_type": "code",
   "execution_count": 65,
   "id": "f36dee4d",
   "metadata": {},
   "outputs": [
    {
     "data": {
      "text/plain": [
       "2034   2010-07-21\n",
       "2033   2010-07-22\n",
       "2032   2010-07-23\n",
       "2031   2010-07-26\n",
       "2030   2010-07-27\n",
       "Name: Date, dtype: datetime64[ns]"
      ]
     },
     "execution_count": 65,
     "metadata": {},
     "output_type": "execute_result"
    }
   ],
   "source": [
    "# Sort Dataframe in date order\n",
    "\n",
    "df.sort_values(by=[\"Date\"], inplace=True, ascending=True)\n",
    "df.Date.head()"
   ]
  },
  {
   "cell_type": "code",
   "execution_count": 66,
   "id": "5294c9c5",
   "metadata": {},
   "outputs": [
    {
     "data": {
      "image/png": "[encoded data removed]",
      "text/plain": [
       "<Figure size 640x480 with 1 Axes>"
      ]
     },
     "metadata": {},
     "output_type": "display_data"
    }
   ],
   "source": [
    "# Let's visualize closing price vs Date... \n",
    "\n",
    "\n",
    "fig, ax = plt.subplots()\n",
    "ax.scatter(df.Date, df.Close);"
   ]
  },
  {
   "cell_type": "code",
   "execution_count": 67,
   "id": "6dfc741c",
   "metadata": {},
   "outputs": [
    {
     "data": {
      "text/html": [
       "<div>\n",
       "<style scoped>\n",
       "    .dataframe tbody tr th:only-of-type {\n",
       "        vertical-align: middle;\n",
       "    }\n",
       "\n",
       "    .dataframe tbody tr th {\n",
       "        vertical-align: top;\n",
       "    }\n",
       "\n",
       "    .dataframe thead th {\n",
       "        text-align: right;\n",
       "    }\n",
       "</style>\n",
       "<table border=\"1\" class=\"dataframe\">\n",
       "  <thead>\n",
       "    <tr style=\"text-align: right;\">\n",
       "      <th></th>\n",
       "      <th>Date</th>\n",
       "      <th>Open</th>\n",
       "      <th>High</th>\n",
       "      <th>Low</th>\n",
       "      <th>Last</th>\n",
       "      <th>Close</th>\n",
       "      <th>Total Trade Quantity</th>\n",
       "      <th>Turnover (Lacs)</th>\n",
       "    </tr>\n",
       "  </thead>\n",
       "  <tbody>\n",
       "    <tr>\n",
       "      <th>2034</th>\n",
       "      <td>2010-07-21</td>\n",
       "      <td>122.10</td>\n",
       "      <td>123.00</td>\n",
       "      <td>121.05</td>\n",
       "      <td>121.10</td>\n",
       "      <td>121.55</td>\n",
       "      <td>658666</td>\n",
       "      <td>803.56</td>\n",
       "    </tr>\n",
       "    <tr>\n",
       "      <th>2033</th>\n",
       "      <td>2010-07-22</td>\n",
       "      <td>120.30</td>\n",
       "      <td>122.00</td>\n",
       "      <td>120.25</td>\n",
       "      <td>120.75</td>\n",
       "      <td>120.90</td>\n",
       "      <td>293312</td>\n",
       "      <td>355.17</td>\n",
       "    </tr>\n",
       "    <tr>\n",
       "      <th>2032</th>\n",
       "      <td>2010-07-23</td>\n",
       "      <td>121.80</td>\n",
       "      <td>121.95</td>\n",
       "      <td>120.25</td>\n",
       "      <td>120.35</td>\n",
       "      <td>120.65</td>\n",
       "      <td>281312</td>\n",
       "      <td>340.31</td>\n",
       "    </tr>\n",
       "    <tr>\n",
       "      <th>2031</th>\n",
       "      <td>2010-07-26</td>\n",
       "      <td>120.10</td>\n",
       "      <td>121.00</td>\n",
       "      <td>117.10</td>\n",
       "      <td>117.10</td>\n",
       "      <td>117.60</td>\n",
       "      <td>658440</td>\n",
       "      <td>780.01</td>\n",
       "    </tr>\n",
       "    <tr>\n",
       "      <th>2030</th>\n",
       "      <td>2010-07-27</td>\n",
       "      <td>117.60</td>\n",
       "      <td>119.50</td>\n",
       "      <td>112.00</td>\n",
       "      <td>118.80</td>\n",
       "      <td>118.65</td>\n",
       "      <td>586100</td>\n",
       "      <td>694.98</td>\n",
       "    </tr>\n",
       "    <tr>\n",
       "      <th>...</th>\n",
       "      <td>...</td>\n",
       "      <td>...</td>\n",
       "      <td>...</td>\n",
       "      <td>...</td>\n",
       "      <td>...</td>\n",
       "      <td>...</td>\n",
       "      <td>...</td>\n",
       "      <td>...</td>\n",
       "    </tr>\n",
       "    <tr>\n",
       "      <th>4</th>\n",
       "      <td>2018-09-24</td>\n",
       "      <td>233.55</td>\n",
       "      <td>239.20</td>\n",
       "      <td>230.75</td>\n",
       "      <td>234.00</td>\n",
       "      <td>233.30</td>\n",
       "      <td>3423509</td>\n",
       "      <td>7999.55</td>\n",
       "    </tr>\n",
       "    <tr>\n",
       "      <th>3</th>\n",
       "      <td>2018-09-25</td>\n",
       "      <td>233.30</td>\n",
       "      <td>236.75</td>\n",
       "      <td>232.00</td>\n",
       "      <td>236.25</td>\n",
       "      <td>236.10</td>\n",
       "      <td>2349368</td>\n",
       "      <td>5503.90</td>\n",
       "    </tr>\n",
       "    <tr>\n",
       "      <th>2</th>\n",
       "      <td>2018-09-26</td>\n",
       "      <td>240.00</td>\n",
       "      <td>240.00</td>\n",
       "      <td>232.50</td>\n",
       "      <td>235.00</td>\n",
       "      <td>234.25</td>\n",
       "      <td>2240909</td>\n",
       "      <td>5248.60</td>\n",
       "    </tr>\n",
       "    <tr>\n",
       "      <th>1</th>\n",
       "      <td>2018-09-27</td>\n",
       "      <td>234.55</td>\n",
       "      <td>236.80</td>\n",
       "      <td>231.10</td>\n",
       "      <td>233.80</td>\n",
       "      <td>233.25</td>\n",
       "      <td>5082859</td>\n",
       "      <td>11859.95</td>\n",
       "    </tr>\n",
       "    <tr>\n",
       "      <th>0</th>\n",
       "      <td>2018-09-28</td>\n",
       "      <td>234.05</td>\n",
       "      <td>235.95</td>\n",
       "      <td>230.20</td>\n",
       "      <td>233.50</td>\n",
       "      <td>233.75</td>\n",
       "      <td>3069914</td>\n",
       "      <td>7162.35</td>\n",
       "    </tr>\n",
       "  </tbody>\n",
       "</table>\n",
       "<p>2035 rows × 8 columns</p>\n",
       "</div>"
      ],
      "text/plain": [
       "           Date    Open    High     Low    Last   Close  Total Trade Quantity  \\\n",
       "2034 2010-07-21  122.10  123.00  121.05  121.10  121.55                658666   \n",
       "2033 2010-07-22  120.30  122.00  120.25  120.75  120.90                293312   \n",
       "2032 2010-07-23  121.80  121.95  120.25  120.35  120.65                281312   \n",
       "2031 2010-07-26  120.10  121.00  117.10  117.10  117.60                658440   \n",
       "2030 2010-07-27  117.60  119.50  112.00  118.80  118.65                586100   \n",
       "...         ...     ...     ...     ...     ...     ...                   ...   \n",
       "4    2018-09-24  233.55  239.20  230.75  234.00  233.30               3423509   \n",
       "3    2018-09-25  233.30  236.75  232.00  236.25  236.10               2349368   \n",
       "2    2018-09-26  240.00  240.00  232.50  235.00  234.25               2240909   \n",
       "1    2018-09-27  234.55  236.80  231.10  233.80  233.25               5082859   \n",
       "0    2018-09-28  234.05  235.95  230.20  233.50  233.75               3069914   \n",
       "\n",
       "      Turnover (Lacs)  \n",
       "2034           803.56  \n",
       "2033           355.17  \n",
       "2032           340.31  \n",
       "2031           780.01  \n",
       "2030           694.98  \n",
       "...               ...  \n",
       "4             7999.55  \n",
       "3             5503.90  \n",
       "2             5248.60  \n",
       "1            11859.95  \n",
       "0             7162.35  \n",
       "\n",
       "[2035 rows x 8 columns]"
      ]
     },
     "execution_count": 67,
     "metadata": {},
     "output_type": "execute_result"
    }
   ],
   "source": [
    "df"
   ]
  },
  {
   "cell_type": "code",
   "execution_count": 68,
   "id": "78dcd3d2",
   "metadata": {},
   "outputs": [
    {
     "data": {
      "text/html": [
       "<div>\n",
       "<style scoped>\n",
       "    .dataframe tbody tr th:only-of-type {\n",
       "        vertical-align: middle;\n",
       "    }\n",
       "\n",
       "    .dataframe tbody tr th {\n",
       "        vertical-align: top;\n",
       "    }\n",
       "\n",
       "    .dataframe thead th {\n",
       "        text-align: right;\n",
       "    }\n",
       "</style>\n",
       "<table border=\"1\" class=\"dataframe\">\n",
       "  <thead>\n",
       "    <tr style=\"text-align: right;\">\n",
       "      <th></th>\n",
       "      <th>Date</th>\n",
       "      <th>Open</th>\n",
       "      <th>High</th>\n",
       "      <th>Low</th>\n",
       "      <th>Last</th>\n",
       "      <th>Close</th>\n",
       "      <th>Total Trade Quantity</th>\n",
       "      <th>Turnover (Lacs)</th>\n",
       "    </tr>\n",
       "  </thead>\n",
       "  <tbody>\n",
       "    <tr>\n",
       "      <th>2034</th>\n",
       "      <td>2010-07-21</td>\n",
       "      <td>122.10</td>\n",
       "      <td>123.00</td>\n",
       "      <td>121.05</td>\n",
       "      <td>121.10</td>\n",
       "      <td>121.55</td>\n",
       "      <td>658666</td>\n",
       "      <td>803.56</td>\n",
       "    </tr>\n",
       "    <tr>\n",
       "      <th>2033</th>\n",
       "      <td>2010-07-22</td>\n",
       "      <td>120.30</td>\n",
       "      <td>122.00</td>\n",
       "      <td>120.25</td>\n",
       "      <td>120.75</td>\n",
       "      <td>120.90</td>\n",
       "      <td>293312</td>\n",
       "      <td>355.17</td>\n",
       "    </tr>\n",
       "    <tr>\n",
       "      <th>2032</th>\n",
       "      <td>2010-07-23</td>\n",
       "      <td>121.80</td>\n",
       "      <td>121.95</td>\n",
       "      <td>120.25</td>\n",
       "      <td>120.35</td>\n",
       "      <td>120.65</td>\n",
       "      <td>281312</td>\n",
       "      <td>340.31</td>\n",
       "    </tr>\n",
       "    <tr>\n",
       "      <th>2031</th>\n",
       "      <td>2010-07-26</td>\n",
       "      <td>120.10</td>\n",
       "      <td>121.00</td>\n",
       "      <td>117.10</td>\n",
       "      <td>117.10</td>\n",
       "      <td>117.60</td>\n",
       "      <td>658440</td>\n",
       "      <td>780.01</td>\n",
       "    </tr>\n",
       "    <tr>\n",
       "      <th>2030</th>\n",
       "      <td>2010-07-27</td>\n",
       "      <td>117.60</td>\n",
       "      <td>119.50</td>\n",
       "      <td>112.00</td>\n",
       "      <td>118.80</td>\n",
       "      <td>118.65</td>\n",
       "      <td>586100</td>\n",
       "      <td>694.98</td>\n",
       "    </tr>\n",
       "    <tr>\n",
       "      <th>...</th>\n",
       "      <td>...</td>\n",
       "      <td>...</td>\n",
       "      <td>...</td>\n",
       "      <td>...</td>\n",
       "      <td>...</td>\n",
       "      <td>...</td>\n",
       "      <td>...</td>\n",
       "      <td>...</td>\n",
       "    </tr>\n",
       "    <tr>\n",
       "      <th>4</th>\n",
       "      <td>2018-09-24</td>\n",
       "      <td>233.55</td>\n",
       "      <td>239.20</td>\n",
       "      <td>230.75</td>\n",
       "      <td>234.00</td>\n",
       "      <td>233.30</td>\n",
       "      <td>3423509</td>\n",
       "      <td>7999.55</td>\n",
       "    </tr>\n",
       "    <tr>\n",
       "      <th>3</th>\n",
       "      <td>2018-09-25</td>\n",
       "      <td>233.30</td>\n",
       "      <td>236.75</td>\n",
       "      <td>232.00</td>\n",
       "      <td>236.25</td>\n",
       "      <td>236.10</td>\n",
       "      <td>2349368</td>\n",
       "      <td>5503.90</td>\n",
       "    </tr>\n",
       "    <tr>\n",
       "      <th>2</th>\n",
       "      <td>2018-09-26</td>\n",
       "      <td>240.00</td>\n",
       "      <td>240.00</td>\n",
       "      <td>232.50</td>\n",
       "      <td>235.00</td>\n",
       "      <td>234.25</td>\n",
       "      <td>2240909</td>\n",
       "      <td>5248.60</td>\n",
       "    </tr>\n",
       "    <tr>\n",
       "      <th>1</th>\n",
       "      <td>2018-09-27</td>\n",
       "      <td>234.55</td>\n",
       "      <td>236.80</td>\n",
       "      <td>231.10</td>\n",
       "      <td>233.80</td>\n",
       "      <td>233.25</td>\n",
       "      <td>5082859</td>\n",
       "      <td>11859.95</td>\n",
       "    </tr>\n",
       "    <tr>\n",
       "      <th>0</th>\n",
       "      <td>2018-09-28</td>\n",
       "      <td>234.05</td>\n",
       "      <td>235.95</td>\n",
       "      <td>230.20</td>\n",
       "      <td>233.50</td>\n",
       "      <td>233.75</td>\n",
       "      <td>3069914</td>\n",
       "      <td>7162.35</td>\n",
       "    </tr>\n",
       "  </tbody>\n",
       "</table>\n",
       "<p>2035 rows × 8 columns</p>\n",
       "</div>"
      ],
      "text/plain": [
       "           Date    Open    High     Low    Last   Close  Total Trade Quantity  \\\n",
       "2034 2010-07-21  122.10  123.00  121.05  121.10  121.55                658666   \n",
       "2033 2010-07-22  120.30  122.00  120.25  120.75  120.90                293312   \n",
       "2032 2010-07-23  121.80  121.95  120.25  120.35  120.65                281312   \n",
       "2031 2010-07-26  120.10  121.00  117.10  117.10  117.60                658440   \n",
       "2030 2010-07-27  117.60  119.50  112.00  118.80  118.65                586100   \n",
       "...         ...     ...     ...     ...     ...     ...                   ...   \n",
       "4    2018-09-24  233.55  239.20  230.75  234.00  233.30               3423509   \n",
       "3    2018-09-25  233.30  236.75  232.00  236.25  236.10               2349368   \n",
       "2    2018-09-26  240.00  240.00  232.50  235.00  234.25               2240909   \n",
       "1    2018-09-27  234.55  236.80  231.10  233.80  233.25               5082859   \n",
       "0    2018-09-28  234.05  235.95  230.20  233.50  233.75               3069914   \n",
       "\n",
       "      Turnover (Lacs)  \n",
       "2034           803.56  \n",
       "2033           355.17  \n",
       "2032           340.31  \n",
       "2031           780.01  \n",
       "2030           694.98  \n",
       "...               ...  \n",
       "4             7999.55  \n",
       "3             5503.90  \n",
       "2             5248.60  \n",
       "1            11859.95  \n",
       "0             7162.35  \n",
       "\n",
       "[2035 rows x 8 columns]"
      ]
     },
     "execution_count": 68,
     "metadata": {},
     "output_type": "execute_result"
    }
   ],
   "source": [
    "copy_df = df.copy()\n",
    "copy_df"
   ]
  },
  {
   "cell_type": "code",
   "execution_count": 69,
   "id": "8f8359ad",
   "metadata": {},
   "outputs": [
    {
     "data": {
      "text/html": [
       "<div>\n",
       "<style scoped>\n",
       "    .dataframe tbody tr th:only-of-type {\n",
       "        vertical-align: middle;\n",
       "    }\n",
       "\n",
       "    .dataframe tbody tr th {\n",
       "        vertical-align: top;\n",
       "    }\n",
       "\n",
       "    .dataframe thead th {\n",
       "        text-align: right;\n",
       "    }\n",
       "</style>\n",
       "<table border=\"1\" class=\"dataframe\">\n",
       "  <thead>\n",
       "    <tr style=\"text-align: right;\">\n",
       "      <th></th>\n",
       "      <th>index</th>\n",
       "      <th>Date</th>\n",
       "      <th>Open</th>\n",
       "      <th>High</th>\n",
       "      <th>Low</th>\n",
       "      <th>Last</th>\n",
       "      <th>Close</th>\n",
       "      <th>Total Trade Quantity</th>\n",
       "      <th>Turnover (Lacs)</th>\n",
       "    </tr>\n",
       "  </thead>\n",
       "  <tbody>\n",
       "    <tr>\n",
       "      <th>0</th>\n",
       "      <td>2034</td>\n",
       "      <td>2010-07-21</td>\n",
       "      <td>122.10</td>\n",
       "      <td>123.00</td>\n",
       "      <td>121.05</td>\n",
       "      <td>121.10</td>\n",
       "      <td>121.55</td>\n",
       "      <td>658666</td>\n",
       "      <td>803.56</td>\n",
       "    </tr>\n",
       "    <tr>\n",
       "      <th>1</th>\n",
       "      <td>2033</td>\n",
       "      <td>2010-07-22</td>\n",
       "      <td>120.30</td>\n",
       "      <td>122.00</td>\n",
       "      <td>120.25</td>\n",
       "      <td>120.75</td>\n",
       "      <td>120.90</td>\n",
       "      <td>293312</td>\n",
       "      <td>355.17</td>\n",
       "    </tr>\n",
       "    <tr>\n",
       "      <th>2</th>\n",
       "      <td>2032</td>\n",
       "      <td>2010-07-23</td>\n",
       "      <td>121.80</td>\n",
       "      <td>121.95</td>\n",
       "      <td>120.25</td>\n",
       "      <td>120.35</td>\n",
       "      <td>120.65</td>\n",
       "      <td>281312</td>\n",
       "      <td>340.31</td>\n",
       "    </tr>\n",
       "    <tr>\n",
       "      <th>3</th>\n",
       "      <td>2031</td>\n",
       "      <td>2010-07-26</td>\n",
       "      <td>120.10</td>\n",
       "      <td>121.00</td>\n",
       "      <td>117.10</td>\n",
       "      <td>117.10</td>\n",
       "      <td>117.60</td>\n",
       "      <td>658440</td>\n",
       "      <td>780.01</td>\n",
       "    </tr>\n",
       "    <tr>\n",
       "      <th>4</th>\n",
       "      <td>2030</td>\n",
       "      <td>2010-07-27</td>\n",
       "      <td>117.60</td>\n",
       "      <td>119.50</td>\n",
       "      <td>112.00</td>\n",
       "      <td>118.80</td>\n",
       "      <td>118.65</td>\n",
       "      <td>586100</td>\n",
       "      <td>694.98</td>\n",
       "    </tr>\n",
       "    <tr>\n",
       "      <th>...</th>\n",
       "      <td>...</td>\n",
       "      <td>...</td>\n",
       "      <td>...</td>\n",
       "      <td>...</td>\n",
       "      <td>...</td>\n",
       "      <td>...</td>\n",
       "      <td>...</td>\n",
       "      <td>...</td>\n",
       "      <td>...</td>\n",
       "    </tr>\n",
       "    <tr>\n",
       "      <th>2030</th>\n",
       "      <td>4</td>\n",
       "      <td>2018-09-24</td>\n",
       "      <td>233.55</td>\n",
       "      <td>239.20</td>\n",
       "      <td>230.75</td>\n",
       "      <td>234.00</td>\n",
       "      <td>233.30</td>\n",
       "      <td>3423509</td>\n",
       "      <td>7999.55</td>\n",
       "    </tr>\n",
       "    <tr>\n",
       "      <th>2031</th>\n",
       "      <td>3</td>\n",
       "      <td>2018-09-25</td>\n",
       "      <td>233.30</td>\n",
       "      <td>236.75</td>\n",
       "      <td>232.00</td>\n",
       "      <td>236.25</td>\n",
       "      <td>236.10</td>\n",
       "      <td>2349368</td>\n",
       "      <td>5503.90</td>\n",
       "    </tr>\n",
       "    <tr>\n",
       "      <th>2032</th>\n",
       "      <td>2</td>\n",
       "      <td>2018-09-26</td>\n",
       "      <td>240.00</td>\n",
       "      <td>240.00</td>\n",
       "      <td>232.50</td>\n",
       "      <td>235.00</td>\n",
       "      <td>234.25</td>\n",
       "      <td>2240909</td>\n",
       "      <td>5248.60</td>\n",
       "    </tr>\n",
       "    <tr>\n",
       "      <th>2033</th>\n",
       "      <td>1</td>\n",
       "      <td>2018-09-27</td>\n",
       "      <td>234.55</td>\n",
       "      <td>236.80</td>\n",
       "      <td>231.10</td>\n",
       "      <td>233.80</td>\n",
       "      <td>233.25</td>\n",
       "      <td>5082859</td>\n",
       "      <td>11859.95</td>\n",
       "    </tr>\n",
       "    <tr>\n",
       "      <th>2034</th>\n",
       "      <td>0</td>\n",
       "      <td>2018-09-28</td>\n",
       "      <td>234.05</td>\n",
       "      <td>235.95</td>\n",
       "      <td>230.20</td>\n",
       "      <td>233.50</td>\n",
       "      <td>233.75</td>\n",
       "      <td>3069914</td>\n",
       "      <td>7162.35</td>\n",
       "    </tr>\n",
       "  </tbody>\n",
       "</table>\n",
       "<p>2035 rows × 9 columns</p>\n",
       "</div>"
      ],
      "text/plain": [
       "      index       Date    Open    High     Low    Last   Close  \\\n",
       "0      2034 2010-07-21  122.10  123.00  121.05  121.10  121.55   \n",
       "1      2033 2010-07-22  120.30  122.00  120.25  120.75  120.90   \n",
       "2      2032 2010-07-23  121.80  121.95  120.25  120.35  120.65   \n",
       "3      2031 2010-07-26  120.10  121.00  117.10  117.10  117.60   \n",
       "4      2030 2010-07-27  117.60  119.50  112.00  118.80  118.65   \n",
       "...     ...        ...     ...     ...     ...     ...     ...   \n",
       "2030      4 2018-09-24  233.55  239.20  230.75  234.00  233.30   \n",
       "2031      3 2018-09-25  233.30  236.75  232.00  236.25  236.10   \n",
       "2032      2 2018-09-26  240.00  240.00  232.50  235.00  234.25   \n",
       "2033      1 2018-09-27  234.55  236.80  231.10  233.80  233.25   \n",
       "2034      0 2018-09-28  234.05  235.95  230.20  233.50  233.75   \n",
       "\n",
       "      Total Trade Quantity  Turnover (Lacs)  \n",
       "0                   658666           803.56  \n",
       "1                   293312           355.17  \n",
       "2                   281312           340.31  \n",
       "3                   658440           780.01  \n",
       "4                   586100           694.98  \n",
       "...                    ...              ...  \n",
       "2030               3423509          7999.55  \n",
       "2031               2349368          5503.90  \n",
       "2032               2240909          5248.60  \n",
       "2033               5082859         11859.95  \n",
       "2034               3069914          7162.35  \n",
       "\n",
       "[2035 rows x 9 columns]"
      ]
     },
     "execution_count": 69,
     "metadata": {},
     "output_type": "execute_result"
    }
   ],
   "source": [
    "copy_df.reset_index(inplace =True)\n",
    "copy_df"
   ]
  },
  {
   "cell_type": "code",
   "execution_count": 70,
   "id": "2b0932e6",
   "metadata": {},
   "outputs": [],
   "source": [
    "copy_df.drop(\"index\", axis=1, inplace=True)"
   ]
  },
  {
   "cell_type": "code",
   "execution_count": 71,
   "id": "5e425cb7",
   "metadata": {},
   "outputs": [
    {
     "data": {
      "text/html": [
       "<div>\n",
       "<style scoped>\n",
       "    .dataframe tbody tr th:only-of-type {\n",
       "        vertical-align: middle;\n",
       "    }\n",
       "\n",
       "    .dataframe tbody tr th {\n",
       "        vertical-align: top;\n",
       "    }\n",
       "\n",
       "    .dataframe thead th {\n",
       "        text-align: right;\n",
       "    }\n",
       "</style>\n",
       "<table border=\"1\" class=\"dataframe\">\n",
       "  <thead>\n",
       "    <tr style=\"text-align: right;\">\n",
       "      <th></th>\n",
       "      <th>Date</th>\n",
       "      <th>Open</th>\n",
       "      <th>High</th>\n",
       "      <th>Low</th>\n",
       "      <th>Last</th>\n",
       "      <th>Close</th>\n",
       "      <th>Total Trade Quantity</th>\n",
       "      <th>Turnover (Lacs)</th>\n",
       "    </tr>\n",
       "  </thead>\n",
       "  <tbody>\n",
       "    <tr>\n",
       "      <th>0</th>\n",
       "      <td>2010-07-21</td>\n",
       "      <td>122.10</td>\n",
       "      <td>123.00</td>\n",
       "      <td>121.05</td>\n",
       "      <td>121.10</td>\n",
       "      <td>121.55</td>\n",
       "      <td>658666</td>\n",
       "      <td>803.56</td>\n",
       "    </tr>\n",
       "    <tr>\n",
       "      <th>1</th>\n",
       "      <td>2010-07-22</td>\n",
       "      <td>120.30</td>\n",
       "      <td>122.00</td>\n",
       "      <td>120.25</td>\n",
       "      <td>120.75</td>\n",
       "      <td>120.90</td>\n",
       "      <td>293312</td>\n",
       "      <td>355.17</td>\n",
       "    </tr>\n",
       "    <tr>\n",
       "      <th>2</th>\n",
       "      <td>2010-07-23</td>\n",
       "      <td>121.80</td>\n",
       "      <td>121.95</td>\n",
       "      <td>120.25</td>\n",
       "      <td>120.35</td>\n",
       "      <td>120.65</td>\n",
       "      <td>281312</td>\n",
       "      <td>340.31</td>\n",
       "    </tr>\n",
       "    <tr>\n",
       "      <th>3</th>\n",
       "      <td>2010-07-26</td>\n",
       "      <td>120.10</td>\n",
       "      <td>121.00</td>\n",
       "      <td>117.10</td>\n",
       "      <td>117.10</td>\n",
       "      <td>117.60</td>\n",
       "      <td>658440</td>\n",
       "      <td>780.01</td>\n",
       "    </tr>\n",
       "    <tr>\n",
       "      <th>4</th>\n",
       "      <td>2010-07-27</td>\n",
       "      <td>117.60</td>\n",
       "      <td>119.50</td>\n",
       "      <td>112.00</td>\n",
       "      <td>118.80</td>\n",
       "      <td>118.65</td>\n",
       "      <td>586100</td>\n",
       "      <td>694.98</td>\n",
       "    </tr>\n",
       "    <tr>\n",
       "      <th>...</th>\n",
       "      <td>...</td>\n",
       "      <td>...</td>\n",
       "      <td>...</td>\n",
       "      <td>...</td>\n",
       "      <td>...</td>\n",
       "      <td>...</td>\n",
       "      <td>...</td>\n",
       "      <td>...</td>\n",
       "    </tr>\n",
       "    <tr>\n",
       "      <th>2030</th>\n",
       "      <td>2018-09-24</td>\n",
       "      <td>233.55</td>\n",
       "      <td>239.20</td>\n",
       "      <td>230.75</td>\n",
       "      <td>234.00</td>\n",
       "      <td>233.30</td>\n",
       "      <td>3423509</td>\n",
       "      <td>7999.55</td>\n",
       "    </tr>\n",
       "    <tr>\n",
       "      <th>2031</th>\n",
       "      <td>2018-09-25</td>\n",
       "      <td>233.30</td>\n",
       "      <td>236.75</td>\n",
       "      <td>232.00</td>\n",
       "      <td>236.25</td>\n",
       "      <td>236.10</td>\n",
       "      <td>2349368</td>\n",
       "      <td>5503.90</td>\n",
       "    </tr>\n",
       "    <tr>\n",
       "      <th>2032</th>\n",
       "      <td>2018-09-26</td>\n",
       "      <td>240.00</td>\n",
       "      <td>240.00</td>\n",
       "      <td>232.50</td>\n",
       "      <td>235.00</td>\n",
       "      <td>234.25</td>\n",
       "      <td>2240909</td>\n",
       "      <td>5248.60</td>\n",
       "    </tr>\n",
       "    <tr>\n",
       "      <th>2033</th>\n",
       "      <td>2018-09-27</td>\n",
       "      <td>234.55</td>\n",
       "      <td>236.80</td>\n",
       "      <td>231.10</td>\n",
       "      <td>233.80</td>\n",
       "      <td>233.25</td>\n",
       "      <td>5082859</td>\n",
       "      <td>11859.95</td>\n",
       "    </tr>\n",
       "    <tr>\n",
       "      <th>2034</th>\n",
       "      <td>2018-09-28</td>\n",
       "      <td>234.05</td>\n",
       "      <td>235.95</td>\n",
       "      <td>230.20</td>\n",
       "      <td>233.50</td>\n",
       "      <td>233.75</td>\n",
       "      <td>3069914</td>\n",
       "      <td>7162.35</td>\n",
       "    </tr>\n",
       "  </tbody>\n",
       "</table>\n",
       "<p>2035 rows × 8 columns</p>\n",
       "</div>"
      ],
      "text/plain": [
       "           Date    Open    High     Low    Last   Close  Total Trade Quantity  \\\n",
       "0    2010-07-21  122.10  123.00  121.05  121.10  121.55                658666   \n",
       "1    2010-07-22  120.30  122.00  120.25  120.75  120.90                293312   \n",
       "2    2010-07-23  121.80  121.95  120.25  120.35  120.65                281312   \n",
       "3    2010-07-26  120.10  121.00  117.10  117.10  117.60                658440   \n",
       "4    2010-07-27  117.60  119.50  112.00  118.80  118.65                586100   \n",
       "...         ...     ...     ...     ...     ...     ...                   ...   \n",
       "2030 2018-09-24  233.55  239.20  230.75  234.00  233.30               3423509   \n",
       "2031 2018-09-25  233.30  236.75  232.00  236.25  236.10               2349368   \n",
       "2032 2018-09-26  240.00  240.00  232.50  235.00  234.25               2240909   \n",
       "2033 2018-09-27  234.55  236.80  231.10  233.80  233.25               5082859   \n",
       "2034 2018-09-28  234.05  235.95  230.20  233.50  233.75               3069914   \n",
       "\n",
       "      Turnover (Lacs)  \n",
       "0              803.56  \n",
       "1              355.17  \n",
       "2              340.31  \n",
       "3              780.01  \n",
       "4              694.98  \n",
       "...               ...  \n",
       "2030          7999.55  \n",
       "2031          5503.90  \n",
       "2032          5248.60  \n",
       "2033         11859.95  \n",
       "2034          7162.35  \n",
       "\n",
       "[2035 rows x 8 columns]"
      ]
     },
     "execution_count": 71,
     "metadata": {},
     "output_type": "execute_result"
    }
   ],
   "source": [
    "copy_df"
   ]
  },
  {
   "cell_type": "code",
   "execution_count": 72,
   "id": "1e650fa3",
   "metadata": {},
   "outputs": [
    {
     "name": "stderr",
     "output_type": "stream",
     "text": [
      "C:\\Windows\\Temp\\ipykernel_14136\\4268513041.py:2: FutureWarning: The default value of numeric_only in DataFrame.corr is deprecated. In a future version, it will default to False. Select only valid columns or specify the value of numeric_only to silence this warning.\n",
      "  copy_df.corr()\n"
     ]
    },
    {
     "data": {
      "text/html": [
       "<div>\n",
       "<style scoped>\n",
       "    .dataframe tbody tr th:only-of-type {\n",
       "        vertical-align: middle;\n",
       "    }\n",
       "\n",
       "    .dataframe tbody tr th {\n",
       "        vertical-align: top;\n",
       "    }\n",
       "\n",
       "    .dataframe thead th {\n",
       "        text-align: right;\n",
       "    }\n",
       "</style>\n",
       "<table border=\"1\" class=\"dataframe\">\n",
       "  <thead>\n",
       "    <tr style=\"text-align: right;\">\n",
       "      <th></th>\n",
       "      <th>Open</th>\n",
       "      <th>High</th>\n",
       "      <th>Low</th>\n",
       "      <th>Last</th>\n",
       "      <th>Close</th>\n",
       "      <th>Total Trade Quantity</th>\n",
       "      <th>Turnover (Lacs)</th>\n",
       "    </tr>\n",
       "  </thead>\n",
       "  <tbody>\n",
       "    <tr>\n",
       "      <th>Open</th>\n",
       "      <td>1.000000</td>\n",
       "      <td>0.999015</td>\n",
       "      <td>0.998825</td>\n",
       "      <td>0.997781</td>\n",
       "      <td>0.997840</td>\n",
       "      <td>0.385951</td>\n",
       "      <td>0.612877</td>\n",
       "    </tr>\n",
       "    <tr>\n",
       "      <th>High</th>\n",
       "      <td>0.999015</td>\n",
       "      <td>1.000000</td>\n",
       "      <td>0.998773</td>\n",
       "      <td>0.999155</td>\n",
       "      <td>0.999194</td>\n",
       "      <td>0.406405</td>\n",
       "      <td>0.630589</td>\n",
       "    </tr>\n",
       "    <tr>\n",
       "      <th>Low</th>\n",
       "      <td>0.998825</td>\n",
       "      <td>0.998773</td>\n",
       "      <td>1.000000</td>\n",
       "      <td>0.999051</td>\n",
       "      <td>0.999119</td>\n",
       "      <td>0.380621</td>\n",
       "      <td>0.608502</td>\n",
       "    </tr>\n",
       "    <tr>\n",
       "      <th>Last</th>\n",
       "      <td>0.997781</td>\n",
       "      <td>0.999155</td>\n",
       "      <td>0.999051</td>\n",
       "      <td>1.000000</td>\n",
       "      <td>0.999961</td>\n",
       "      <td>0.399328</td>\n",
       "      <td>0.624584</td>\n",
       "    </tr>\n",
       "    <tr>\n",
       "      <th>Close</th>\n",
       "      <td>0.997840</td>\n",
       "      <td>0.999194</td>\n",
       "      <td>0.999119</td>\n",
       "      <td>0.999961</td>\n",
       "      <td>1.000000</td>\n",
       "      <td>0.398911</td>\n",
       "      <td>0.624213</td>\n",
       "    </tr>\n",
       "    <tr>\n",
       "      <th>Total Trade Quantity</th>\n",
       "      <td>0.385951</td>\n",
       "      <td>0.406405</td>\n",
       "      <td>0.380621</td>\n",
       "      <td>0.399328</td>\n",
       "      <td>0.398911</td>\n",
       "      <td>1.000000</td>\n",
       "      <td>0.926931</td>\n",
       "    </tr>\n",
       "    <tr>\n",
       "      <th>Turnover (Lacs)</th>\n",
       "      <td>0.612877</td>\n",
       "      <td>0.630589</td>\n",
       "      <td>0.608502</td>\n",
       "      <td>0.624584</td>\n",
       "      <td>0.624213</td>\n",
       "      <td>0.926931</td>\n",
       "      <td>1.000000</td>\n",
       "    </tr>\n",
       "  </tbody>\n",
       "</table>\n",
       "</div>"
      ],
      "text/plain": [
       "                          Open      High       Low      Last     Close  \\\n",
       "Open                  1.000000  0.999015  0.998825  0.997781  0.997840   \n",
       "High                  0.999015  1.000000  0.998773  0.999155  0.999194   \n",
       "Low                   0.998825  0.998773  1.000000  0.999051  0.999119   \n",
       "Last                  0.997781  0.999155  0.999051  1.000000  0.999961   \n",
       "Close                 0.997840  0.999194  0.999119  0.999961  1.000000   \n",
       "Total Trade Quantity  0.385951  0.406405  0.380621  0.399328  0.398911   \n",
       "Turnover (Lacs)       0.612877  0.630589  0.608502  0.624584  0.624213   \n",
       "\n",
       "                      Total Trade Quantity  Turnover (Lacs)  \n",
       "Open                              0.385951         0.612877  \n",
       "High                              0.406405         0.630589  \n",
       "Low                               0.380621         0.608502  \n",
       "Last                              0.399328         0.624584  \n",
       "Close                             0.398911         0.624213  \n",
       "Total Trade Quantity              1.000000         0.926931  \n",
       "Turnover (Lacs)                   0.926931         1.000000  "
      ]
     },
     "execution_count": 72,
     "metadata": {},
     "output_type": "execute_result"
    }
   ],
   "source": [
    "# Let's see correlation matrix...\n",
    "copy_df.corr()"
   ]
  },
  {
   "cell_type": "code",
   "execution_count": 73,
   "id": "14fdf926",
   "metadata": {},
   "outputs": [
    {
     "data": {
      "image/png": "[encoded data removed]",
      "text/plain": [
       "<Figure size 1000x700 with 1 Axes>"
      ]
     },
     "metadata": {},
     "output_type": "display_data"
    }
   ],
   "source": [
    "plt.figure(figsize=(10,7))\n",
    "plt.plot(copy_df[\"Date\"],\n",
    "         copy_df[\"Close\"])\n",
    "plt.xlabel(\"Date\")\n",
    "plt.ylabel(\"Closed Price\");\n",
    "plt.title(\"Variation of Closing price with different Date year\",\n",
    "          color=\"orange\",\n",
    "          fontsize=18);"
   ]
  },
  {
   "cell_type": "code",
   "execution_count": 74,
   "id": "f1842f6c",
   "metadata": {},
   "outputs": [
    {
     "data": {
      "text/plain": [
       "0       121.55\n",
       "1       120.90\n",
       "2       120.65\n",
       "3       117.60\n",
       "4       118.65\n",
       "         ...  \n",
       "2030    233.30\n",
       "2031    236.10\n",
       "2032    234.25\n",
       "2033    233.25\n",
       "2034    233.75\n",
       "Name: Close, Length: 2035, dtype: float64"
      ]
     },
     "execution_count": 74,
     "metadata": {},
     "output_type": "execute_result"
    }
   ],
   "source": [
    "# Considering only `Close` variable...\n",
    "\n",
    "close_df = copy_df[\"Close\"]\n",
    "close_df"
   ]
  },
  {
   "cell_type": "code",
   "execution_count": 75,
   "id": "9d6dc14b",
   "metadata": {},
   "outputs": [
    {
     "data": {
      "text/plain": [
       "2035"
      ]
     },
     "execution_count": 75,
     "metadata": {},
     "output_type": "execute_result"
    }
   ],
   "source": [
    "close_df.size"
   ]
  },
  {
   "cell_type": "code",
   "execution_count": 76,
   "id": "8685474b",
   "metadata": {},
   "outputs": [
    {
     "data": {
      "text/plain": [
       "(2035,)"
      ]
     },
     "execution_count": 76,
     "metadata": {},
     "output_type": "execute_result"
    }
   ],
   "source": [
    "close_df.shape"
   ]
  },
  {
   "cell_type": "code",
   "execution_count": 77,
   "id": "6af6ec94",
   "metadata": {},
   "outputs": [
    {
     "name": "stdout",
     "output_type": "stream",
     "text": [
      "<class 'pandas.core.series.Series'>\n",
      "RangeIndex: 2035 entries, 0 to 2034\n",
      "Series name: Close\n",
      "Non-Null Count  Dtype  \n",
      "--------------  -----  \n",
      "2035 non-null   float64\n",
      "dtypes: float64(1)\n",
      "memory usage: 16.0 KB\n"
     ]
    }
   ],
   "source": [
    "close_df.info()"
   ]
  },
  {
   "cell_type": "code",
   "execution_count": 78,
   "id": "b209b542",
   "metadata": {},
   "outputs": [
    {
     "data": {
      "text/plain": [
       "count    2035.00000\n",
       "mean      149.45027\n",
       "std        48.71204\n",
       "min        80.95000\n",
       "25%       120.05000\n",
       "50%       141.25000\n",
       "75%       156.90000\n",
       "max       325.75000\n",
       "Name: Close, dtype: float64"
      ]
     },
     "execution_count": 78,
     "metadata": {},
     "output_type": "execute_result"
    }
   ],
   "source": [
    "close_df.describe()"
   ]
  },
  {
   "cell_type": "code",
   "execution_count": 79,
   "id": "c69906e8",
   "metadata": {},
   "outputs": [
    {
     "data": {
      "image/png": "[encoded data removed]",
      "text/plain": [
       "<Figure size 640x480 with 1 Axes>"
      ]
     },
     "metadata": {},
     "output_type": "display_data"
    }
   ],
   "source": [
    "plt.plot(copy_df.Date, close_df)\n",
    "plt.xlabel(\"Time in Year\")\n",
    "plt.ylabel(\"Closing Price\");\n",
    "plt.title(\"Variation of Closing price with Time\",\n",
    "          color=\"orange\",\n",
    "          fontsize=18);"
   ]
  },
  {
   "cell_type": "code",
   "execution_count": 80,
   "id": "6accd4a2",
   "metadata": {},
   "outputs": [
    {
     "data": {
      "text/plain": [
       "array([[0.16584967],\n",
       "       [0.16319444],\n",
       "       [0.1621732 ],\n",
       "       ...,\n",
       "       [0.62622549],\n",
       "       [0.62214052],\n",
       "       [0.62418301]])"
      ]
     },
     "execution_count": 80,
     "metadata": {},
     "output_type": "execute_result"
    }
   ],
   "source": [
    "from sklearn.preprocessing import MinMaxScaler\n",
    "\n",
    "minmax = MinMaxScaler(feature_range=(0,1)) # (0,1) by default.But mentioned for understanding\n",
    "close_df = minmax.fit_transform(np.array(close_df).reshape(-1, 1))\n",
    "close_df"
   ]
  },
  {
   "cell_type": "code",
   "execution_count": 81,
   "id": "9de9a1d0",
   "metadata": {},
   "outputs": [],
   "source": [
    "train_size = int(len(close_df)*0.7)\n",
    "test_size = len(close_df) - train_size\n",
    "train_data = close_df[:train_size, :] # Slicing row from 0 to train_size indexlocation but column is kept unsliced.\n",
    "test_data = close_df[train_size:len(close_df), :1]"
   ]
  },
  {
   "cell_type": "code",
   "execution_count": 82,
   "id": "94f0fc1c",
   "metadata": {},
   "outputs": [
    {
     "data": {
      "text/plain": [
       "(1424, 1)"
      ]
     },
     "execution_count": 82,
     "metadata": {},
     "output_type": "execute_result"
    }
   ],
   "source": [
    "train_data.shape"
   ]
  },
  {
   "cell_type": "code",
   "execution_count": 83,
   "id": "4e35e159",
   "metadata": {},
   "outputs": [
    {
     "data": {
      "text/plain": [
       "(611, 1)"
      ]
     },
     "execution_count": 83,
     "metadata": {},
     "output_type": "execute_result"
    }
   ],
   "source": [
    "test_data.shape"
   ]
  },
  {
   "cell_type": "code",
   "execution_count": 84,
   "id": "b8315c1c",
   "metadata": {},
   "outputs": [
    {
     "data": {
      "text/plain": [
       "2035"
      ]
     },
     "execution_count": 84,
     "metadata": {},
     "output_type": "execute_result"
    }
   ],
   "source": [
    "1424 + 611"
   ]
  },
  {
   "cell_type": "code",
   "execution_count": 85,
   "id": "63c5d277",
   "metadata": {},
   "outputs": [
    {
     "data": {
      "text/plain": [
       "array([[0.1621732 ],\n",
       "       [0.15951797],\n",
       "       [0.16707516],\n",
       "       [0.15992647],\n",
       "       [0.16053922],\n",
       "       [0.16441993],\n",
       "       [0.16687092],\n",
       "       [0.1693219 ],\n",
       "       [0.16074346],\n",
       "       [0.15972222]])"
      ]
     },
     "execution_count": 85,
     "metadata": {},
     "output_type": "execute_result"
    }
   ],
   "source": [
    "test_data[:10]"
   ]
  },
  {
   "cell_type": "code",
   "execution_count": 86,
   "id": "1a868c50",
   "metadata": {},
   "outputs": [],
   "source": [
    "#This function will create dataset as mentioned above...\n",
    "\n",
    "def create_dataset(dataset, time_step):\n",
    "    X_data = []\n",
    "    Y_data = []\n",
    "    for i in range(len(dataset)-time_step-1):\n",
    "        X_data.append(dataset[i:(i+time_step), 0])\n",
    "        Y_data.append(dataset[i+time_step, 0])\n",
    "    return np.array(X_data), np.array(Y_data)"
   ]
  },
  {
   "cell_type": "code",
   "execution_count": 87,
   "id": "c1a9a15f",
   "metadata": {},
   "outputs": [],
   "source": [
    "# Reshaping into tuples of the form with X=t, t+1,..t+99 and Y=t+100 for time_step=100\n",
    "\n",
    "time_step = 100\n",
    "X_train, y_train = create_dataset(train_data, time_step)\n",
    "X_test, y_test = create_dataset(test_data, time_step)"
   ]
  },
  {
   "cell_type": "code",
   "execution_count": 88,
   "id": "eba03782",
   "metadata": {},
   "outputs": [
    {
     "data": {
      "text/plain": [
       "(1323, 100)"
      ]
     },
     "execution_count": 88,
     "metadata": {},
     "output_type": "execute_result"
    }
   ],
   "source": [
    "X_train.shape"
   ]
  },
  {
   "cell_type": "code",
   "execution_count": 89,
   "id": "ee33d8b8",
   "metadata": {},
   "outputs": [
    {
     "data": {
      "text/plain": [
       "(1323,)"
      ]
     },
     "execution_count": 89,
     "metadata": {},
     "output_type": "execute_result"
    }
   ],
   "source": [
    "y_train.shape"
   ]
  },
  {
   "cell_type": "code",
   "execution_count": 90,
   "id": "3f445d59",
   "metadata": {},
   "outputs": [
    {
     "data": {
      "text/plain": [
       "((510, 100), (510,))"
      ]
     },
     "execution_count": 90,
     "metadata": {},
     "output_type": "execute_result"
    }
   ],
   "source": [
    "X_test.shape, y_test.shape"
   ]
  },
  {
   "cell_type": "code",
   "execution_count": 91,
   "id": "ad8d6a04",
   "metadata": {},
   "outputs": [],
   "source": [
    "X_train = X_train.reshape(X_train.shape[0], X_train.shape[1], 1)\n",
    "X_test = X_test.reshape(X_test.shape[0], X_test.shape[1], 1)"
   ]
  },
  {
   "cell_type": "code",
   "execution_count": 92,
   "id": "d8a64f50",
   "metadata": {},
   "outputs": [],
   "source": [
    "# Constructing our stacked LSTM model\n",
    "from tensorflow.keras.models import Sequential\n",
    "from tensorflow.keras.layers import Dense\n",
    "from tensorflow.keras.layers import LSTM\n",
    "\n",
    "model = Sequential()\n",
    "model.add(LSTM(50, return_sequences=True, input_shape=(time_step, 1))) #Input layer with 50 neurons\n",
    "model.add(LSTM(50, return_sequences=True)) # Hidden layers with 50 neurons\n",
    "model.add(LSTM(50))\n",
    "model.add(Dense(1))# Output Layer\n",
    "model.compile(loss='mean_squared_error', optimizer='adam')"
   ]
  },
  {
   "cell_type": "code",
   "execution_count": 93,
   "id": "79385926",
   "metadata": {},
   "outputs": [
    {
     "name": "stdout",
     "output_type": "stream",
     "text": [
      "Model: \"sequential\"\n",
      "_________________________________________________________________\n",
      " Layer (type)                Output Shape              Param #   \n",
      "=================================================================\n",
      " lstm (LSTM)                 (None, 100, 50)           10400     \n",
      "                                                                 \n",
      " lstm_1 (LSTM)               (None, 100, 50)           20200     \n",
      "                                                                 \n",
      " lstm_2 (LSTM)               (None, 50)                20200     \n",
      "                                                                 \n",
      " dense (Dense)               (None, 1)                 51        \n",
      "                                                                 \n",
      "=================================================================\n",
      "Total params: 50,851\n",
      "Trainable params: 50,851\n",
      "Non-trainable params: 0\n",
      "_________________________________________________________________\n"
     ]
    }
   ],
   "source": [
    "model.summary()"
   ]
  },
  {
   "cell_type": "code",
   "execution_count": 94,
   "id": "ab97865d",
   "metadata": {},
   "outputs": [
    {
     "name": "stdout",
     "output_type": "stream",
     "text": [
      "Epoch 1/100\n",
      "21/21 [==============================] - 21s 428ms/step - loss: 0.0073 - val_loss: 0.0134\n",
      "Epoch 2/100\n",
      "21/21 [==============================] - 6s 301ms/step - loss: 0.0016 - val_loss: 0.0103\n",
      "Epoch 3/100\n",
      "21/21 [==============================] - 6s 302ms/step - loss: 9.7047e-04 - val_loss: 0.0048\n",
      "Epoch 4/100\n",
      "21/21 [==============================] - 6s 302ms/step - loss: 8.9310e-04 - val_loss: 0.0093\n",
      "Epoch 5/100\n",
      "21/21 [==============================] - 6s 298ms/step - loss: 8.6649e-04 - val_loss: 0.0069\n",
      "Epoch 6/100\n",
      "21/21 [==============================] - 6s 300ms/step - loss: 8.5814e-04 - val_loss: 0.0084\n",
      "Epoch 7/100\n",
      "21/21 [==============================] - 6s 301ms/step - loss: 8.5218e-04 - val_loss: 0.0073\n",
      "Epoch 8/100\n",
      "21/21 [==============================] - 6s 299ms/step - loss: 7.9187e-04 - val_loss: 0.0062\n",
      "Epoch 9/100\n",
      "21/21 [==============================] - 6s 300ms/step - loss: 7.6793e-04 - val_loss: 0.0053\n",
      "Epoch 10/100\n",
      "21/21 [==============================] - 6s 304ms/step - loss: 7.3387e-04 - val_loss: 0.0062\n",
      "Epoch 11/100\n",
      "21/21 [==============================] - 6s 302ms/step - loss: 7.0949e-04 - val_loss: 0.0050\n",
      "Epoch 12/100\n",
      "21/21 [==============================] - 6s 300ms/step - loss: 6.9408e-04 - val_loss: 0.0086\n",
      "Epoch 13/100\n",
      "21/21 [==============================] - 6s 300ms/step - loss: 7.4022e-04 - val_loss: 0.0035\n",
      "Epoch 14/100\n",
      "21/21 [==============================] - 6s 302ms/step - loss: 8.1732e-04 - val_loss: 0.0050\n",
      "Epoch 15/100\n",
      "21/21 [==============================] - 6s 303ms/step - loss: 6.3327e-04 - val_loss: 0.0062\n",
      "Epoch 16/100\n",
      "21/21 [==============================] - 6s 303ms/step - loss: 6.0944e-04 - val_loss: 0.0060\n",
      "Epoch 17/100\n",
      "21/21 [==============================] - 6s 301ms/step - loss: 5.9117e-04 - val_loss: 0.0086\n",
      "Epoch 18/100\n",
      "21/21 [==============================] - 6s 293ms/step - loss: 5.7324e-04 - val_loss: 0.0070\n",
      "Epoch 19/100\n",
      "21/21 [==============================] - 6s 302ms/step - loss: 5.5806e-04 - val_loss: 0.0063\n",
      "Epoch 20/100\n",
      "21/21 [==============================] - 6s 301ms/step - loss: 5.7138e-04 - val_loss: 0.0094\n",
      "Epoch 21/100\n",
      "21/21 [==============================] - 6s 301ms/step - loss: 5.6007e-04 - val_loss: 0.0068\n",
      "Epoch 22/100\n",
      "21/21 [==============================] - 6s 300ms/step - loss: 5.3393e-04 - val_loss: 0.0082\n",
      "Epoch 23/100\n",
      "21/21 [==============================] - 6s 301ms/step - loss: 5.0721e-04 - val_loss: 0.0092\n",
      "Epoch 24/100\n",
      "21/21 [==============================] - 6s 302ms/step - loss: 5.0238e-04 - val_loss: 0.0087\n",
      "Epoch 25/100\n",
      "21/21 [==============================] - 6s 301ms/step - loss: 4.8719e-04 - val_loss: 0.0067\n",
      "Epoch 26/100\n",
      "21/21 [==============================] - 6s 300ms/step - loss: 4.7387e-04 - val_loss: 0.0082\n",
      "Epoch 27/100\n",
      "21/21 [==============================] - 6s 300ms/step - loss: 4.7683e-04 - val_loss: 0.0077\n",
      "Epoch 28/100\n",
      "21/21 [==============================] - 6s 296ms/step - loss: 4.4996e-04 - val_loss: 0.0068\n",
      "Epoch 29/100\n",
      "21/21 [==============================] - 6s 302ms/step - loss: 4.5712e-04 - val_loss: 0.0065\n",
      "Epoch 30/100\n",
      "21/21 [==============================] - 6s 301ms/step - loss: 4.6510e-04 - val_loss: 0.0076\n",
      "Epoch 31/100\n",
      "21/21 [==============================] - 6s 304ms/step - loss: 4.1181e-04 - val_loss: 0.0063\n",
      "Epoch 32/100\n",
      "21/21 [==============================] - 6s 300ms/step - loss: 3.8686e-04 - val_loss: 0.0043\n",
      "Epoch 33/100\n",
      "21/21 [==============================] - 6s 300ms/step - loss: 3.9876e-04 - val_loss: 0.0085\n",
      "Epoch 34/100\n",
      "21/21 [==============================] - 6s 287ms/step - loss: 3.7787e-04 - val_loss: 0.0033\n",
      "Epoch 35/100\n",
      "21/21 [==============================] - 6s 282ms/step - loss: 3.6475e-04 - val_loss: 0.0064\n",
      "Epoch 36/100\n",
      "21/21 [==============================] - 6s 303ms/step - loss: 3.6075e-04 - val_loss: 0.0042\n",
      "Epoch 37/100\n",
      "21/21 [==============================] - 6s 303ms/step - loss: 3.6672e-04 - val_loss: 0.0074\n",
      "Epoch 38/100\n",
      "21/21 [==============================] - 6s 302ms/step - loss: 3.4944e-04 - val_loss: 0.0033\n",
      "Epoch 39/100\n",
      "21/21 [==============================] - 6s 275ms/step - loss: 3.3468e-04 - val_loss: 0.0048\n",
      "Epoch 40/100\n",
      "21/21 [==============================] - 6s 279ms/step - loss: 3.6886e-04 - val_loss: 0.0078\n",
      "Epoch 41/100\n",
      "21/21 [==============================] - 6s 301ms/step - loss: 3.4253e-04 - val_loss: 0.0024\n",
      "Epoch 42/100\n",
      "21/21 [==============================] - 6s 301ms/step - loss: 3.1416e-04 - val_loss: 0.0033\n",
      "Epoch 43/100\n",
      "21/21 [==============================] - 6s 285ms/step - loss: 3.0951e-04 - val_loss: 0.0013\n",
      "Epoch 44/100\n",
      "21/21 [==============================] - 6s 288ms/step - loss: 3.0734e-04 - val_loss: 0.0024\n",
      "Epoch 45/100\n",
      "21/21 [==============================] - 6s 278ms/step - loss: 2.8033e-04 - val_loss: 0.0021\n",
      "Epoch 46/100\n",
      "21/21 [==============================] - 6s 282ms/step - loss: 2.5993e-04 - val_loss: 0.0026\n",
      "Epoch 47/100\n",
      "21/21 [==============================] - 6s 281ms/step - loss: 2.5651e-04 - val_loss: 0.0012\n",
      "Epoch 48/100\n",
      "21/21 [==============================] - 6s 276ms/step - loss: 2.5490e-04 - val_loss: 0.0014\n",
      "Epoch 49/100\n",
      "21/21 [==============================] - 6s 276ms/step - loss: 2.4894e-04 - val_loss: 0.0015\n",
      "Epoch 50/100\n",
      "21/21 [==============================] - 6s 275ms/step - loss: 2.4482e-04 - val_loss: 0.0010\n",
      "Epoch 51/100\n",
      "21/21 [==============================] - 6s 273ms/step - loss: 2.7829e-04 - val_loss: 0.0013\n",
      "Epoch 52/100\n",
      "21/21 [==============================] - 6s 274ms/step - loss: 2.2974e-04 - val_loss: 0.0019\n",
      "Epoch 53/100\n",
      "21/21 [==============================] - 6s 283ms/step - loss: 2.3450e-04 - val_loss: 0.0019\n",
      "Epoch 54/100\n",
      "21/21 [==============================] - 6s 288ms/step - loss: 2.1684e-04 - val_loss: 0.0024\n",
      "Epoch 55/100\n",
      "21/21 [==============================] - 6s 294ms/step - loss: 2.2234e-04 - val_loss: 0.0017\n",
      "Epoch 56/100\n",
      "21/21 [==============================] - 6s 284ms/step - loss: 2.1143e-04 - val_loss: 0.0017\n",
      "Epoch 57/100\n",
      "21/21 [==============================] - 6s 288ms/step - loss: 2.0020e-04 - val_loss: 0.0014\n",
      "Epoch 58/100\n",
      "21/21 [==============================] - 6s 286ms/step - loss: 2.1828e-04 - val_loss: 0.0012\n",
      "Epoch 59/100\n",
      "21/21 [==============================] - 6s 284ms/step - loss: 2.2680e-04 - val_loss: 0.0021\n",
      "Epoch 60/100\n",
      "21/21 [==============================] - 6s 300ms/step - loss: 1.9671e-04 - val_loss: 0.0025\n",
      "Epoch 61/100\n",
      "21/21 [==============================] - 6s 293ms/step - loss: 1.8598e-04 - val_loss: 0.0027\n",
      "Epoch 62/100\n",
      "21/21 [==============================] - 6s 294ms/step - loss: 2.0085e-04 - val_loss: 0.0015\n",
      "Epoch 63/100\n",
      "21/21 [==============================] - 6s 297ms/step - loss: 1.8551e-04 - val_loss: 0.0010\n",
      "Epoch 64/100\n",
      "21/21 [==============================] - 6s 292ms/step - loss: 1.8159e-04 - val_loss: 0.0017\n",
      "Epoch 65/100\n",
      "21/21 [==============================] - 6s 277ms/step - loss: 1.7724e-04 - val_loss: 0.0022\n",
      "Epoch 66/100\n",
      "21/21 [==============================] - 6s 276ms/step - loss: 1.7048e-04 - val_loss: 0.0015\n",
      "Epoch 67/100\n",
      "21/21 [==============================] - 6s 283ms/step - loss: 1.6411e-04 - val_loss: 0.0016\n",
      "Epoch 68/100\n",
      "21/21 [==============================] - 6s 292ms/step - loss: 1.5981e-04 - val_loss: 6.6841e-04\n",
      "Epoch 69/100\n",
      "21/21 [==============================] - 6s 280ms/step - loss: 2.9602e-04 - val_loss: 0.0029\n",
      "Epoch 70/100\n",
      "21/21 [==============================] - 6s 286ms/step - loss: 2.0929e-04 - val_loss: 0.0021\n",
      "Epoch 71/100\n",
      "21/21 [==============================] - 6s 289ms/step - loss: 1.6933e-04 - val_loss: 0.0014\n",
      "Epoch 72/100\n",
      "21/21 [==============================] - 6s 294ms/step - loss: 1.5699e-04 - val_loss: 0.0013\n",
      "Epoch 73/100\n",
      "21/21 [==============================] - 6s 283ms/step - loss: 1.6044e-04 - val_loss: 0.0019\n",
      "Epoch 74/100\n",
      "21/21 [==============================] - 6s 282ms/step - loss: 1.6717e-04 - val_loss: 0.0012\n",
      "Epoch 75/100\n",
      "21/21 [==============================] - 6s 278ms/step - loss: 1.5937e-04 - val_loss: 0.0010\n",
      "Epoch 76/100\n",
      "21/21 [==============================] - 6s 283ms/step - loss: 1.6303e-04 - val_loss: 0.0024\n",
      "Epoch 77/100\n",
      "21/21 [==============================] - 6s 285ms/step - loss: 1.8204e-04 - val_loss: 0.0019\n",
      "Epoch 78/100\n",
      "21/21 [==============================] - 6s 288ms/step - loss: 1.5543e-04 - val_loss: 0.0015\n",
      "Epoch 79/100\n",
      "21/21 [==============================] - 6s 284ms/step - loss: 1.5537e-04 - val_loss: 7.2092e-04\n",
      "Epoch 80/100\n",
      "21/21 [==============================] - 6s 291ms/step - loss: 1.5680e-04 - val_loss: 8.6332e-04\n",
      "Epoch 81/100\n",
      "21/21 [==============================] - 6s 301ms/step - loss: 1.4720e-04 - val_loss: 0.0020\n",
      "Epoch 82/100\n",
      "21/21 [==============================] - 6s 289ms/step - loss: 1.4221e-04 - val_loss: 9.5819e-04\n",
      "Epoch 83/100\n",
      "21/21 [==============================] - 6s 280ms/step - loss: 1.4595e-04 - val_loss: 0.0014\n",
      "Epoch 84/100\n",
      "21/21 [==============================] - 6s 275ms/step - loss: 1.6990e-04 - val_loss: 0.0017\n",
      "Epoch 85/100\n",
      "21/21 [==============================] - 6s 279ms/step - loss: 2.0783e-04 - val_loss: 0.0036\n",
      "Epoch 86/100\n",
      "21/21 [==============================] - 5s 263ms/step - loss: 1.7374e-04 - val_loss: 0.0015\n",
      "Epoch 87/100\n",
      "21/21 [==============================] - 6s 293ms/step - loss: 1.3894e-04 - val_loss: 0.0016\n",
      "Epoch 88/100\n",
      "21/21 [==============================] - 6s 288ms/step - loss: 1.3457e-04 - val_loss: 0.0015\n",
      "Epoch 89/100\n",
      "21/21 [==============================] - 6s 284ms/step - loss: 1.3583e-04 - val_loss: 9.7115e-04\n",
      "Epoch 90/100\n",
      "21/21 [==============================] - 6s 289ms/step - loss: 1.3369e-04 - val_loss: 0.0011\n",
      "Epoch 91/100\n",
      "21/21 [==============================] - 6s 267ms/step - loss: 1.3587e-04 - val_loss: 0.0015\n",
      "Epoch 92/100\n",
      "21/21 [==============================] - 6s 273ms/step - loss: 1.3897e-04 - val_loss: 0.0011\n",
      "Epoch 93/100\n",
      "21/21 [==============================] - 6s 282ms/step - loss: 1.3428e-04 - val_loss: 9.8842e-04\n",
      "Epoch 94/100\n",
      "21/21 [==============================] - 6s 287ms/step - loss: 1.3892e-04 - val_loss: 0.0011\n",
      "Epoch 95/100\n",
      "21/21 [==============================] - 6s 286ms/step - loss: 1.3829e-04 - val_loss: 0.0012\n",
      "Epoch 96/100\n",
      "21/21 [==============================] - 6s 284ms/step - loss: 1.3041e-04 - val_loss: 0.0014\n",
      "Epoch 97/100\n",
      "21/21 [==============================] - 6s 279ms/step - loss: 1.2920e-04 - val_loss: 0.0012\n",
      "Epoch 98/100\n",
      "21/21 [==============================] - 7s 319ms/step - loss: 1.2964e-04 - val_loss: 0.0022\n",
      "Epoch 99/100\n",
      "21/21 [==============================] - 6s 290ms/step - loss: 1.6253e-04 - val_loss: 8.0296e-04\n",
      "Epoch 100/100\n",
      "21/21 [==============================] - 6s 285ms/step - loss: 1.3514e-04 - val_loss: 9.6799e-04\n"
     ]
    }
   ],
   "source": [
    "model.fit(X_train, y_train, validation_data=(X_test, y_test), epochs=100, batch_size=64, verbose=1);\n"
   ]
  },
  {
   "cell_type": "code",
   "execution_count": 95,
   "id": "43593e02",
   "metadata": {},
   "outputs": [
    {
     "data": {
      "image/png": "[encoded data removed]",
      "text/plain": [
       "<Figure size 640x480 with 1 Axes>"
      ]
     },
     "metadata": {},
     "output_type": "display_data"
    }
   ],
   "source": [
    "# Ploting Loss of our trained model\n",
    "\n",
    "loss = model.history.history['loss']\n",
    "plt.plot(loss)\n",
    "plt.xlabel(\"No. of Iterations...\")\n",
    "plt.ylabel(\"Loss Value...\")\n",
    "plt.title(\"Variations of Loss value with No. of Iterations\", color=\"orange\", fontsize=16, fontweight=\"bold\");"
   ]
  },
  {
   "cell_type": "code",
   "execution_count": 96,
   "id": "f1da39f3",
   "metadata": {},
   "outputs": [
    {
     "name": "stdout",
     "output_type": "stream",
     "text": [
      "42/42 [==============================] - 6s 66ms/step\n",
      "16/16 [==============================] - 1s 69ms/step\n"
     ]
    }
   ],
   "source": [
    "train_preds = minmax.inverse_transform(model.predict(X_train))\n",
    "test_preds = minmax.inverse_transform(model.predict(X_test))"
   ]
  },
  {
   "cell_type": "code",
   "execution_count": 97,
   "id": "f64a9b8a",
   "metadata": {},
   "outputs": [
    {
     "data": {
      "text/plain": [
       "133.887266458944"
      ]
     },
     "execution_count": 97,
     "metadata": {},
     "output_type": "execute_result"
    }
   ],
   "source": [
    "import math\n",
    "from sklearn.metrics import mean_squared_error\n",
    "\n",
    "math.sqrt(mean_squared_error(y_train,train_preds))"
   ]
  },
  {
   "cell_type": "code",
   "execution_count": 98,
   "id": "2345341b",
   "metadata": {},
   "outputs": [
    {
     "data": {
      "text/plain": [
       "208.8880366817928"
      ]
     },
     "execution_count": 98,
     "metadata": {},
     "output_type": "execute_result"
    }
   ],
   "source": [
    "math.sqrt(mean_squared_error(y_test, test_preds))"
   ]
  },
  {
   "cell_type": "code",
   "execution_count": 99,
   "id": "ee8fb11c",
   "metadata": {},
   "outputs": [
    {
     "data": {
      "text/plain": [
       "array([[0.16584967],\n",
       "       [0.16319444],\n",
       "       [0.1621732 ],\n",
       "       ...,\n",
       "       [0.62622549],\n",
       "       [0.62214052],\n",
       "       [0.62418301]])"
      ]
     },
     "execution_count": 99,
     "metadata": {},
     "output_type": "execute_result"
    }
   ],
   "source": [
    "close_df"
   ]
  },
  {
   "cell_type": "code",
   "execution_count": 100,
   "id": "76d02ee4",
   "metadata": {},
   "outputs": [
    {
     "data": {
      "text/plain": [
       "(1323, 1)"
      ]
     },
     "execution_count": 100,
     "metadata": {},
     "output_type": "execute_result"
    }
   ],
   "source": [
    "train_preds.shape"
   ]
  },
  {
   "cell_type": "code",
   "execution_count": 101,
   "id": "8b7b52fe",
   "metadata": {},
   "outputs": [
    {
     "data": {
      "image/png": "[encoded data removed]",
      "text/plain": [
       "<Figure size 640x480 with 1 Axes>"
      ]
     },
     "metadata": {},
     "output_type": "display_data"
    }
   ],
   "source": [
    "# shift train predictions for plotting\n",
    "\n",
    "look_back=100  # to align predicted and actual on same curve...\n",
    "\n",
    "trainPredictPlot = np.empty_like(close_df)\n",
    "trainPredictPlot[:, :] = np.nan\n",
    "trainPredictPlot[look_back:len(train_preds)+look_back, :] = train_preds\n",
    "\n",
    "# shift test predictions for plotting\n",
    "testPredictPlot = np.empty_like(close_df)\n",
    "testPredictPlot[:, :] = np.nan\n",
    "testPredictPlot[len(train_preds)+(look_back*2)+1:len(close_df)-1, :] = test_preds\n",
    "\n",
    "# plot baseline i.e. Actual value of Closing price..\n",
    "\n",
    "plt.plot(minmax.inverse_transform(close_df))\n",
    "plt.title(\"Variation of Actual dataset\", color=\"orange\", fontsize=16, fontweight=\"bold\")\n",
    "plt.xlabel(\"Data Index Number\")\n",
    "plt.ylabel(\"Clossing price\");"
   ]
  },
  {
   "cell_type": "code",
   "execution_count": 102,
   "id": "293a11b3",
   "metadata": {},
   "outputs": [
    {
     "data": {
      "image/png": "[encoded data removed]",
      "text/plain": [
       "<Figure size 640x480 with 1 Axes>"
      ]
     },
     "metadata": {},
     "output_type": "display_data"
    }
   ],
   "source": [
    "# Plot of Predictions on Closing Price made by our model on training dataset vs Actual Closing Price\n",
    "\n",
    "plt.plot(minmax.inverse_transform(close_df))\n",
    "plt.plot(trainPredictPlot)\n",
    "plt.title(\"Variation of Predicted trained dataset(orange) and actual dataset(lightblue)\", color=\"orange\", fontsize=16, fontweight=\"bold\")\n",
    "plt.xlabel(\"Data Index Number\")\n",
    "plt.ylabel(\"Clossing price\");"
   ]
  },
  {
   "cell_type": "code",
   "execution_count": 103,
   "id": "968477e0",
   "metadata": {},
   "outputs": [
    {
     "data": {
      "image/png": "[encoded data removed]",
      "text/plain": [
       "<Figure size 640x480 with 1 Axes>"
      ]
     },
     "metadata": {},
     "output_type": "display_data"
    }
   ],
   "source": [
    "# Plot of Predictions on Closing Price made by our model on training dataset vs Actual Closing Price \n",
    "# vs Predictions on CLosing Price made by our model on test dataset\n",
    "\n",
    "plt.plot(minmax.inverse_transform(close_df))\n",
    "plt.plot(trainPredictPlot)\n",
    "plt.title(\"Variation of Predicted tested dataset(green) and actual dataset(lightblue)\", color=\"orange\", fontsize=16, fontweight=\"bold\")\n",
    "plt.xlabel(\"Data Index Number\")\n",
    "plt.ylabel(\"Clossing price\");\n",
    "plt.plot(testPredictPlot)\n",
    "plt.show()"
   ]
  },
  {
   "cell_type": "code",
   "execution_count": 104,
   "id": "298f8fe1",
   "metadata": {},
   "outputs": [
    {
     "data": {
      "image/png": "[encoded data removed]",
      "text/plain": [
       "<Figure size 1500x500 with 2 Axes>"
      ]
     },
     "metadata": {},
     "output_type": "display_data"
    }
   ],
   "source": [
    "fig, (ax0, ax1) = plt.subplots(nrows=1,\n",
    "                               ncols=2,\n",
    "                               figsize=(15,5))\n",
    "ax0.plot(minmax.inverse_transform(close_df))\n",
    "ax0.set(xlabel=\"Data index number\",\n",
    "        ylabel=\"Clossing price\",\n",
    "        title=\"Actual dataset\");\n",
    "\n",
    "ax0.set(xlabel=\"Data index number\",\n",
    "        ylabel=\"Clossing price\",\n",
    "        title=\"Actual dataset\");\n",
    "\n",
    "ax1.plot(minmax.inverse_transform(close_df))\n",
    "ax1.plot(trainPredictPlot)\n",
    "ax1.plot(testPredictPlot)\n",
    "\n",
    "\n",
    "ax1.set(xlabel=\"Data index number\",\n",
    "        ylabel=\"Clossing price\",\n",
    "        title=\"Actual dataset vs Prediction on train vs Prediction on test\");\n",
    "\n",
    "fig.suptitle(t=\"Plot of Baseline(Actual) and Predictions(Train and Test Predicted)\",\n",
    "             color=\"orange\",\n",
    "             fontsize=16,\n",
    "             fontweight=\"bold\");"
   ]
  },
  {
   "cell_type": "code",
   "execution_count": 105,
   "id": "f665cbae",
   "metadata": {},
   "outputs": [
    {
     "data": {
      "text/plain": [
       "611"
      ]
     },
     "execution_count": 105,
     "metadata": {},
     "output_type": "execute_result"
    }
   ],
   "source": [
    "# Let's check length of test_data...\n",
    "\n",
    "len(test_data)"
   ]
  },
  {
   "cell_type": "code",
   "execution_count": 106,
   "id": "f1b75466",
   "metadata": {},
   "outputs": [
    {
     "data": {
      "text/plain": [
       "(611, 1)"
      ]
     },
     "execution_count": 106,
     "metadata": {},
     "output_type": "execute_result"
    }
   ],
   "source": [
    "test_data.shape"
   ]
  },
  {
   "cell_type": "code",
   "execution_count": 107,
   "id": "67a34aae",
   "metadata": {},
   "outputs": [
    {
     "data": {
      "text/plain": [
       "511"
      ]
     },
     "execution_count": 107,
     "metadata": {},
     "output_type": "execute_result"
    }
   ],
   "source": [
    "611-100"
   ]
  },
  {
   "cell_type": "code",
   "execution_count": 108,
   "id": "6312bd03",
   "metadata": {},
   "outputs": [
    {
     "data": {
      "text/plain": [
       "array([[0.85273693],\n",
       "       [0.86213235],\n",
       "       [0.83455882],\n",
       "       [0.84375   ],\n",
       "       [0.71466503]])"
      ]
     },
     "execution_count": 108,
     "metadata": {},
     "output_type": "execute_result"
    }
   ],
   "source": [
    "preds_input = test_data[511:]\n",
    "preds_input[:5]"
   ]
  },
  {
   "cell_type": "code",
   "execution_count": 109,
   "id": "5dee3045",
   "metadata": {},
   "outputs": [
    {
     "data": {
      "text/plain": [
       "(100, 1)"
      ]
     },
     "execution_count": 109,
     "metadata": {},
     "output_type": "execute_result"
    }
   ],
   "source": [
    "preds_input.shape"
   ]
  },
  {
   "cell_type": "code",
   "execution_count": 110,
   "id": "bc76e200",
   "metadata": {},
   "outputs": [
    {
     "data": {
      "text/plain": [
       "(1, 100)"
      ]
     },
     "execution_count": 110,
     "metadata": {},
     "output_type": "execute_result"
    }
   ],
   "source": [
    "# Reshaping into row matrix\n",
    "\n",
    "preds_input = preds_input.reshape(1, -1)\n",
    "preds_input.shape"
   ]
  },
  {
   "cell_type": "code",
   "execution_count": 111,
   "id": "ff86307d",
   "metadata": {},
   "outputs": [
    {
     "data": {
      "text/plain": [
       "1"
      ]
     },
     "execution_count": 111,
     "metadata": {},
     "output_type": "execute_result"
    }
   ],
   "source": [
    "temp_input = list(preds_input)\n",
    "len(temp_input)"
   ]
  },
  {
   "cell_type": "code",
   "execution_count": 112,
   "id": "03836cea",
   "metadata": {},
   "outputs": [],
   "source": [
    "temp_input = temp_input[0].tolist()"
   ]
  },
  {
   "cell_type": "code",
   "execution_count": 113,
   "id": "ef5e4a9d",
   "metadata": {},
   "outputs": [
    {
     "data": {
      "text/plain": [
       "100"
      ]
     },
     "execution_count": 113,
     "metadata": {},
     "output_type": "execute_result"
    }
   ],
   "source": [
    "len(temp_input)"
   ]
  },
  {
   "cell_type": "code",
   "execution_count": 114,
   "id": "e598388c",
   "metadata": {},
   "outputs": [
    {
     "data": {
      "text/plain": [
       "list"
      ]
     },
     "execution_count": 114,
     "metadata": {},
     "output_type": "execute_result"
    }
   ],
   "source": [
    "type(temp_input)"
   ]
  },
  {
   "cell_type": "code",
   "execution_count": 115,
   "id": "782b8eab",
   "metadata": {},
   "outputs": [
    {
     "data": {
      "text/plain": [
       "100"
      ]
     },
     "execution_count": 115,
     "metadata": {},
     "output_type": "execute_result"
    }
   ],
   "source": [
    "preds_input.shape[1]"
   ]
  }
 ],
 "metadata": {
  "kernelspec": {
   "display_name": "Python 3 (ipykernel)",
   "language": "python",
   "name": "python3"
  },
  "language_info": {
   "codemirror_mode": {
    "name": "ipython",
    "version": 3
   },
   "file_extension": ".py",
   "mimetype": "text/x-python",
   "name": "python",
   "nbconvert_exporter": "python",
   "pygments_lexer": "ipython3",
   "version": "3.10.9"
  }
 },
 "nbformat": 4,
 "nbformat_minor": 5
}
